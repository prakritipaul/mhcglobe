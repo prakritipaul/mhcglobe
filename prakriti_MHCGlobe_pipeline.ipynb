{
  "nbformat": 4,
  "nbformat_minor": 0,
  "metadata": {
    "colab": {
      "provenance": [],
      "authorship_tag": "ABX9TyNUlPkELpT2526+d6IdAgpv",
      "include_colab_link": true
    },
    "kernelspec": {
      "name": "python3",
      "display_name": "Python 3"
    },
    "language_info": {
      "name": "python"
    }
  },
  "cells": [
    {
      "cell_type": "markdown",
      "metadata": {
        "id": "view-in-github",
        "colab_type": "text"
      },
      "source": [
        "<a href=\"https://colab.research.google.com/github/prakritipaul/mhcglobe/blob/main/prakriti_MHCGlobe_pipeline.ipynb\" target=\"_parent\"><img src=\"https://colab.research.google.com/assets/colab-badge.svg\" alt=\"Open In Colab\"/></a>"
      ]
    },
    {
      "cell_type": "markdown",
      "source": [
        "# Adapted MHCGlobe Pipeline"
      ],
      "metadata": {
        "id": "6LLL5ZzvEOMz"
      }
    },
    {
      "cell_type": "code",
      "execution_count": null,
      "metadata": {
        "id": "kK8cm7zBEF-g"
      },
      "outputs": [],
      "source": [
        "!git clone https://github.com/prakritipaul/mhcglobe.git"
      ]
    },
    {
      "cell_type": "code",
      "source": [
        "import numpy as np\n",
        "import pandas as pd\n",
        "import tensorflow as tf\n",
        "import sys\n",
        "sys.path.append(\"/content/mhcglobe/src\")"
      ],
      "metadata": {
        "id": "diyxAxSzEaM9"
      },
      "execution_count": null,
      "outputs": []
    },
    {
      "cell_type": "markdown",
      "source": [
        "## 1. Make your dataset. Make a one-hot version and a BERT version of X (aka inputs). Y (outputs) is the same.\n",
        "\n",
        "Starting with one-hot."
      ],
      "metadata": {
        "id": "CvKVqji8Ef1U"
      }
    },
    {
      "cell_type": "markdown",
      "source": [
        "### Get data\n",
        "Contains both BA+EL, human and non-human"
      ],
      "metadata": {
        "id": "eM_IMZMGEqus"
      }
    },
    {
      "cell_type": "code",
      "source": [
        "import mhc_data\n",
        "# 729,538/1,229,838\n",
        "pMHC_true = mhc_data.pMHC_Data(only_EL=False, drop_duplicate_records=True)\n",
        "pMHC_true_data = pMHC_true.data\n",
        "# pMHC_true_data.shape"
      ],
      "metadata": {
        "id": "uTwIl5fVEgIV"
      },
      "execution_count": null,
      "outputs": []
    },
    {
      "cell_type": "markdown",
      "source": [
        "#### Subset only for human data + get 4 relevant columns"
      ],
      "metadata": {
        "id": "YaKiX7DwExaC"
      }
    },
    {
      "cell_type": "code",
      "source": [
        "# 678,024/729,538\n",
        "human_pMHC_true_data = pMHC_true_data[pMHC_true_data[\"allele\"].str.contains(\"HLA\")]\n",
        "human_pMHC_true_data\n",
        "# human_pMHC_true_data.shape"
      ],
      "metadata": {
        "id": "z1i1XpDmEz_N"
      },
      "execution_count": null,
      "outputs": []
    },
    {
      "cell_type": "code",
      "source": [
        "human_pMHC_true_data = human_pMHC_true_data[[\"allele\", \"peptide\", \"measurement_inequality\", \"measurement_value\"]]\n",
        "human_pMHC_true_data"
      ],
      "metadata": {
        "id": "aUh4lT96E3WW"
      },
      "execution_count": null,
      "outputs": []
    },
    {
      "cell_type": "markdown",
      "source": [
        "### Select 80% for training & 20% for testing"
      ],
      "metadata": {
        "id": "xf5IdrCyE5sS"
      }
    },
    {
      "cell_type": "code",
      "source": [
        "# 542419\n",
        "human_pMHC_true_data_train = human_pMHC_true_data.sample(frac=0.8)\n",
        "# 135605\n",
        "human_pMHC_true_data_test = human_pMHC_true_data[~human_pMHC_true_data.index.isin(human_pMHC_true_data_train.index)]\n",
        "print(human_pMHC_true_data_train.shape, human_pMHC_true_data_test.shape)"
      ],
      "metadata": {
        "id": "VzLJhgNKE6tm"
      },
      "execution_count": null,
      "outputs": []
    },
    {
      "cell_type": "markdown",
      "source": [
        "### Make X_tr, Y_tr, X_es, Y_es for training"
      ],
      "metadata": {
        "id": "MeV_CGiiE8vV"
      }
    },
    {
      "cell_type": "code",
      "source": [
        "import mhcglobe\n",
        "ensemble = mhcglobe.ensemble(train_type=\"init\")\n",
        "setup_data_training = ensemble.setup_data_training(human_pMHC_true_data_train)\n",
        "X_tr, Y_tr, X_es, Y_es = setup_data_training"
      ],
      "metadata": {
        "id": "IujIe7ekFAO4"
      },
      "execution_count": null,
      "outputs": []
    },
    {
      "cell_type": "markdown",
      "source": [
        "## 2. Load one of my base tensorflow models and train."
      ],
      "metadata": {
        "id": "yJmrVV4RFCJQ"
      }
    },
    {
      "cell_type": "code",
      "source": [
        "import train_functions as trainf\n",
        "model_dir = \"/content/mhcglobe/model/mhcglobe/init/model14_fold13_ONE_HOT_init/\"\n",
        "model_1 = trainf.load_trained_mhcglobe_model(model_path=model_dir)"
      ],
      "metadata": {
        "id": "CzyeQokpFS-q"
      },
      "execution_count": null,
      "outputs": []
    },
    {
      "cell_type": "code",
      "source": [
        "new_model_path, verbose = \"/content/mhcglobe/outputs\", 0\n",
        "init_model = model_1\n",
        "new_model = trainf.train_mhcglobe_model(init_model, X_tr, Y_tr, X_es, Y_es, new_model_path, verbose)"
      ],
      "metadata": {
        "id": "e9swL8t0FUx_"
      },
      "execution_count": null,
      "outputs": []
    },
    {
      "cell_type": "markdown",
      "source": [
        "## 3. Ensure that model can predict with one-hot input."
      ],
      "metadata": {
        "id": "ihlhAvBqFW7L"
      }
    },
    {
      "cell_type": "code",
      "source": [
        "import sequence_functions as seqf\n",
        "# Can refer to prakriti_MHCglobe_scratch\n",
        "\n",
        "# Load the trained model above.\n",
        "new_model_dir = \"\"\n",
        "\n",
        "new_model = trainf.load_trained_mhcglobe_model(model_path=new_model_dir)\n",
        "\n",
        "# Am I getting all 4 cols?\n",
        "X = seqf.get_XY(human_pMHC_true_data_test, encode_type=\"ONE_HOT\", get_Y=False)\n",
        "new_model.predict(X)"
      ],
      "metadata": {
        "id": "d2b8tNaEFbEy"
      },
      "execution_count": null,
      "outputs": []
    }
  ]
}