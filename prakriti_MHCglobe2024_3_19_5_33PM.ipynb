{
  "nbformat": 4,
  "nbformat_minor": 0,
  "metadata": {
    "colab": {
      "provenance": [],
      "include_colab_link": true
    },
    "kernelspec": {
      "name": "python3",
      "display_name": "Python 3"
    },
    "language_info": {
      "name": "python"
    }
  },
  "cells": [
    {
      "cell_type": "markdown",
      "metadata": {
        "id": "view-in-github",
        "colab_type": "text"
      },
      "source": [
        "<a href=\"https://colab.research.google.com/github/prakritipaul/mhcglobe/blob/main/prakriti_MHCglobe2024_3_19_5_33PM.ipynb\" target=\"_parent\"><img src=\"https://colab.research.google.com/assets/colab-badge.svg\" alt=\"Open In Colab\"/></a>"
      ]
    },
    {
      "cell_type": "markdown",
      "source": [
        "# Prakriti's 1st Attempt to Run Base Model on One-Hot Coded Features"
      ],
      "metadata": {
        "id": "sKXhqHnXciI1"
      }
    },
    {
      "cell_type": "code",
      "source": [
        "import numpy as np\n",
        "import pandas as pd\n",
        "import tensorflow as tf"
      ],
      "metadata": {
        "id": "GZbSp2HX1M-e"
      },
      "execution_count": null,
      "outputs": []
    },
    {
      "cell_type": "code",
      "source": [
        "!git clone https://github.com/prakritipaul/mhcglobe.git"
      ],
      "metadata": {
        "colab": {
          "base_uri": "https://localhost:8080/"
        },
        "id": "9mOSBVhrhcJx",
        "outputId": "78850498-9ea9-4ec5-a407-63cb0a368da7"
      },
      "execution_count": null,
      "outputs": [
        {
          "output_type": "stream",
          "name": "stdout",
          "text": [
            "Cloning into 'mhcglobe'...\n",
            "remote: Enumerating objects: 639, done.\u001b[K\n",
            "remote: Counting objects: 100% (90/90), done.\u001b[K\n",
            "remote: Compressing objects: 100% (73/73), done.\u001b[K\n",
            "remote: Total 639 (delta 43), reused 46 (delta 15), pack-reused 549\u001b[K\n",
            "Receiving objects: 100% (639/639), 112.34 MiB | 11.21 MiB/s, done.\n",
            "Resolving deltas: 100% (341/341), done.\n",
            "Updating files: 100% (196/196), done.\n"
          ]
        }
      ]
    },
    {
      "cell_type": "code",
      "execution_count": null,
      "metadata": {
        "id": "41gKt-IkbqmD"
      },
      "outputs": [],
      "source": [
        "import sys\n",
        "sys.path.append(\"/content/mhcglobe/src\")"
      ]
    },
    {
      "cell_type": "code",
      "source": [],
      "metadata": {
        "id": "uRHk1JRJV_3b"
      },
      "execution_count": null,
      "outputs": []
    },
    {
      "cell_type": "markdown",
      "source": [
        "### Play around with classes in sequence_functions"
      ],
      "metadata": {
        "id": "yG6S7NAOo_Dt"
      }
    },
    {
      "cell_type": "markdown",
      "source": [
        "#### PseudoSeq"
      ],
      "metadata": {
        "id": "poNTCbv0V9q-"
      }
    },
    {
      "cell_type": "code",
      "source": [
        "import sequence_functions\n",
        "test_PseudoSeq = sequence_functions.PseudoSeq()"
      ],
      "metadata": {
        "id": "cFm7Iaa1o-SN"
      },
      "execution_count": null,
      "outputs": []
    },
    {
      "cell_type": "code",
      "source": [
        "type(test_PseudoSeq.pseudoseq)"
      ],
      "metadata": {
        "id": "2Kk3Gafapdd4"
      },
      "execution_count": null,
      "outputs": []
    },
    {
      "cell_type": "code",
      "source": [
        "test_pseudoseq = test_Data.pseudoseq\n",
        "test_pseudoseq"
      ],
      "metadata": {
        "id": "k2w7QrPFRqYc"
      },
      "execution_count": null,
      "outputs": []
    },
    {
      "cell_type": "code",
      "source": [
        "# 14637\n",
        "test_allel2seq = test_Data.allele2seq\n",
        "test_allel2seq\n",
        "# len(test_allel2seq)\n",
        "# all(len(value) == 34 for value in test_allel2seq.values())"
      ],
      "metadata": {
        "id": "rau6wgPCRv5w"
      },
      "execution_count": null,
      "outputs": []
    },
    {
      "cell_type": "markdown",
      "source": [
        "##### MHCName"
      ],
      "metadata": {
        "id": "yuFUINGUWFRw"
      }
    },
    {
      "cell_type": "code",
      "source": [
        "standard_allele_names = list(test_pseudoseq['allele'].unique())\n",
        "len(standard_allele_names)"
      ],
      "metadata": {
        "colab": {
          "base_uri": "https://localhost:8080/"
        },
        "id": "oH2d1RM0R0om",
        "outputId": "020f3cb5-17d4-405a-a6ee-2c51d6d2e2cd"
      },
      "execution_count": null,
      "outputs": [
        {
          "output_type": "execute_result",
          "data": {
            "text/plain": [
              "14637"
            ]
          },
          "metadata": {},
          "execution_count": 34
        }
      ]
    },
    {
      "cell_type": "code",
      "source": [
        "allele = \"HLA-A*03:01\"\n",
        "allele = allele.replace('*', '').replace(':', '')\n",
        "allele"
      ],
      "metadata": {
        "colab": {
          "base_uri": "https://localhost:8080/",
          "height": 36
        },
        "id": "4qO9q5uwTNIx",
        "outputId": "78f8ce14-de9c-409b-b348-414944044b03"
      },
      "execution_count": null,
      "outputs": [
        {
          "output_type": "execute_result",
          "data": {
            "text/plain": [
              "'HLA-A0301'"
            ],
            "application/vnd.google.colaboratory.intrinsic+json": {
              "type": "string"
            }
          },
          "metadata": {},
          "execution_count": 35
        }
      ]
    },
    {
      "cell_type": "code",
      "source": [
        "test_MHCName = sequence_functions.MHCName()"
      ],
      "metadata": {
        "id": "DvppB7B9WpmP"
      },
      "execution_count": null,
      "outputs": []
    },
    {
      "cell_type": "code",
      "source": [
        "def parse_allele(allele):\n",
        "    \"\"\"\n",
        "    Parse allele name to match pseudosequence csv.\n",
        "    \"\"\"\n",
        "    allele = allele.replace('*', '').replace(':', '')\n",
        "    return(allele)\n",
        "\n",
        "def is_same(standard_allele_names, query_allele):\n",
        "    \"\"\"\n",
        "    If allele2 parsed matched an allele name in standard alleles\n",
        "    list, return the allele1 name (from standard alleles). Else\n",
        "    return allele2 name.\n",
        "    \"\"\"\n",
        "    a_q = parse_allele(query_allele.replace('HLA-', ''))\n",
        "    for allele1 in standard_allele_names:\n",
        "        a1 = parse_allele(allele1.replace('HLA-', '')) ####### Make this into a dict to avoid n * n comparisons.\n",
        "        if a1==a_q:\n",
        "            return allele1\n",
        "    else: # Keep allele the same as input.\n",
        "        print(a1, a_q)\n",
        "        return query_allele\n",
        "\n",
        "# my guess\n",
        "alleles_vct = [\"HLA-A*03:01\", \"HLA-A*02:01\", \"HLA-A2402\"]\n",
        "\n",
        "# Creating mapping of allele input name to a standardized naming.\n",
        "allele_dict = {}\n",
        "for allele in alleles_vct:\n",
        "    if allele not in allele_dict:\n",
        "        allele_dict[allele] = is_same(standard_allele_names, allele)\n",
        "[allele_dict[a] for a in alleles_vct]\n",
        "\n",
        "# Output\n",
        "allele_dict"
      ],
      "metadata": {
        "colab": {
          "base_uri": "https://localhost:8080/"
        },
        "id": "W1WVduN8SSAP",
        "outputId": "0f85998b-40da-4dcc-e736-46f92f5c4deb"
      },
      "execution_count": null,
      "outputs": [
        {
          "output_type": "execute_result",
          "data": {
            "text/plain": [
              "{'HLA-A*03:01': 'HLA-A*03:01',\n",
              " 'HLA-A*02:01': 'HLA-A*02:01',\n",
              " 'HLA-A2402': 'HLA-A*24:02'}"
            ]
          },
          "metadata": {},
          "execution_count": 42
        }
      ]
    },
    {
      "cell_type": "markdown",
      "source": [
        "#### SeqRepresentation"
      ],
      "metadata": {
        "id": "LL4N07LwWJyg"
      }
    },
    {
      "cell_type": "code",
      "source": [
        "test_SeqRepresentation = sequence_functions.SeqRepresentation(\"ONE_HOT\")"
      ],
      "metadata": {
        "id": "16vrGWeZZq5I"
      },
      "execution_count": null,
      "outputs": []
    },
    {
      "cell_type": "code",
      "source": [
        "# Expected 1's on position 0\n",
        "test_residue = \"A\"\n",
        "test_one_hot = test_SeqRepresentation.one_hot(test_residue)\n",
        "test_one_hot"
      ],
      "metadata": {
        "colab": {
          "base_uri": "https://localhost:8080/"
        },
        "id": "hqOqkSEla4re",
        "outputId": "0a6a14cf-fee8-45e5-fb35-ae0992b973f5"
      },
      "execution_count": null,
      "outputs": [
        {
          "output_type": "execute_result",
          "data": {
            "text/plain": [
              "array([1., 0., 0., 0., 0., 0., 0., 0., 0., 0., 0., 0., 0., 0., 0., 0., 0.,\n",
              "       0., 0., 0.])"
            ]
          },
          "metadata": {},
          "execution_count": 48
        }
      ]
    },
    {
      "cell_type": "code",
      "source": [
        "test_select_peptideencoding = test_SeqRepresentation.select_peptideencoding(\"BLOSUM62\")\n",
        "test_select_peptideencoding"
      ],
      "metadata": {
        "colab": {
          "base_uri": "https://localhost:8080/"
        },
        "id": "Cz4IDcYhbrmp",
        "outputId": "b1fc80f6-7978-4970-9fd6-7dcdefa9efc4"
      },
      "execution_count": null,
      "outputs": [
        {
          "output_type": "execute_result",
          "data": {
            "text/plain": [
              "list"
            ]
          },
          "metadata": {},
          "execution_count": 54
        }
      ]
    },
    {
      "cell_type": "code",
      "source": [
        "test_peptide = \"ARDVAA\"\n",
        "test_encoded_peptide = test_SeqRepresentation.encode_peptide(test_peptide)\n",
        "test_encoded_peptide"
      ],
      "metadata": {
        "colab": {
          "base_uri": "https://localhost:8080/"
        },
        "id": "O7_YUUfPdFhw",
        "outputId": "f41e4e08-babb-45c0-cb7b-9d0103b53d2d"
      },
      "execution_count": null,
      "outputs": [
        {
          "output_type": "execute_result",
          "data": {
            "text/plain": [
              "array([[1., 0., 0., 0., 0., 0., 0., 0., 0., 0., 0., 0., 0., 0., 0., 0.,\n",
              "        0., 0., 0., 0.],\n",
              "       [0., 1., 0., 0., 0., 0., 0., 0., 0., 0., 0., 0., 0., 0., 0., 0.,\n",
              "        0., 0., 0., 0.],\n",
              "       [0., 0., 0., 1., 0., 0., 0., 0., 0., 0., 0., 0., 0., 0., 0., 0.,\n",
              "        0., 0., 0., 0.],\n",
              "       [0., 0., 0., 0., 0., 0., 0., 0., 0., 0., 0., 0., 0., 0., 0., 0.,\n",
              "        0., 0., 0., 1.],\n",
              "       [1., 0., 0., 0., 0., 0., 0., 0., 0., 0., 0., 0., 0., 0., 0., 0.,\n",
              "        0., 0., 0., 0.],\n",
              "       [1., 0., 0., 0., 0., 0., 0., 0., 0., 0., 0., 0., 0., 0., 0., 0.,\n",
              "        0., 0., 0., 0.]])"
            ]
          },
          "metadata": {},
          "execution_count": 77
        }
      ]
    },
    {
      "cell_type": "code",
      "source": [
        "test_seq_to_15mer = sequence_functions.seq_to_15mer(test_encoded_peptide)\n",
        "test_seq_to_15mer"
      ],
      "metadata": {
        "colab": {
          "base_uri": "https://localhost:8080/"
        },
        "id": "A9eqv-MmfeNa",
        "outputId": "3499d747-2b9d-4704-bdf3-8863097ba87b"
      },
      "execution_count": null,
      "outputs": [
        {
          "output_type": "execute_result",
          "data": {
            "text/plain": [
              "array([[1., 0., 0., 0., 0., 0., 0., 0., 0., 0., 0., 0., 0., 0., 0., 0.,\n",
              "        0., 0., 0., 0.],\n",
              "       [0., 1., 0., 0., 0., 0., 0., 0., 0., 0., 0., 0., 0., 0., 0., 0.,\n",
              "        0., 0., 0., 0.],\n",
              "       [0., 0., 0., 1., 0., 0., 0., 0., 0., 0., 0., 0., 0., 0., 0., 0.,\n",
              "        0., 0., 0., 0.],\n",
              "       [0., 0., 0., 0., 0., 0., 0., 0., 0., 0., 0., 0., 0., 0., 0., 0.,\n",
              "        0., 0., 0., 1.],\n",
              "       [0., 0., 0., 0., 0., 0., 0., 0., 0., 0., 0., 0., 0., 0., 0., 0.,\n",
              "        0., 0., 0., 0.],\n",
              "       [0., 0., 0., 0., 0., 0., 0., 0., 0., 0., 0., 0., 0., 0., 0., 0.,\n",
              "        0., 0., 0., 0.],\n",
              "       [0., 0., 0., 0., 0., 0., 0., 0., 0., 0., 0., 0., 0., 0., 0., 0.,\n",
              "        0., 0., 0., 0.],\n",
              "       [0., 0., 0., 0., 0., 0., 0., 0., 0., 0., 0., 0., 0., 0., 0., 0.,\n",
              "        0., 0., 0., 0.],\n",
              "       [0., 0., 0., 0., 0., 0., 0., 0., 0., 0., 0., 0., 0., 0., 0., 0.,\n",
              "        0., 0., 0., 0.],\n",
              "       [0., 0., 0., 0., 0., 0., 0., 0., 0., 0., 0., 0., 0., 0., 0., 0.,\n",
              "        0., 0., 0., 0.],\n",
              "       [0., 0., 0., 0., 0., 0., 0., 0., 0., 0., 0., 0., 0., 0., 0., 0.,\n",
              "        0., 0., 0., 0.],\n",
              "       [0., 0., 0., 1., 0., 0., 0., 0., 0., 0., 0., 0., 0., 0., 0., 0.,\n",
              "        0., 0., 0., 0.],\n",
              "       [0., 0., 0., 0., 0., 0., 0., 0., 0., 0., 0., 0., 0., 0., 0., 0.,\n",
              "        0., 0., 0., 1.],\n",
              "       [1., 0., 0., 0., 0., 0., 0., 0., 0., 0., 0., 0., 0., 0., 0., 0.,\n",
              "        0., 0., 0., 0.],\n",
              "       [1., 0., 0., 0., 0., 0., 0., 0., 0., 0., 0., 0., 0., 0., 0., 0.,\n",
              "        0., 0., 0., 0.]], dtype=float32)"
            ]
          },
          "metadata": {},
          "execution_count": 78
        }
      ]
    },
    {
      "cell_type": "code",
      "source": [
        "## VIMP TEST!!!\n",
        "# Came from 1st 3 entries in \"mhcglobe_full_train_data.csv\"\n",
        "test_df_data = {\"allele\": [\"HLA-A*03:01\", \"HLA-A*11:01\", \"HLA-A*03:01\"],\n",
        "                \"peptide\": [\"EVMPVSMAK\", \"EVMPVSMAK\", \"KTFPPTEPK\"],\n",
        "                \"measurement_value\": [340.6333333333333, 17.14, 219.8166666666667]}\n",
        "test_df = pd.DataFrame(test_df_data)"
      ],
      "metadata": {
        "id": "B-nr9GhgkMH0"
      },
      "execution_count": null,
      "outputs": []
    },
    {
      "cell_type": "code",
      "source": [
        "test_df"
      ],
      "metadata": {
        "colab": {
          "base_uri": "https://localhost:8080/",
          "height": 143
        },
        "id": "Ty4BalHutS5K",
        "outputId": "262f43f5-3c5e-428d-bf9b-9dc1bc5628b9"
      },
      "execution_count": null,
      "outputs": [
        {
          "output_type": "execute_result",
          "data": {
            "text/plain": [
              "        allele    peptide  measurement_value\n",
              "0  HLA-A*03:01  EVMPVSMAK         340.633333\n",
              "1  HLA-A*11:01  EVMPVSMAK          17.140000\n",
              "2  HLA-A*03:01  KTFPPTEPK         219.816667"
            ],
            "text/html": [
              "\n",
              "  <div id=\"df-8311e05d-8764-4a7f-9912-c33b19a4ed46\" class=\"colab-df-container\">\n",
              "    <div>\n",
              "<style scoped>\n",
              "    .dataframe tbody tr th:only-of-type {\n",
              "        vertical-align: middle;\n",
              "    }\n",
              "\n",
              "    .dataframe tbody tr th {\n",
              "        vertical-align: top;\n",
              "    }\n",
              "\n",
              "    .dataframe thead th {\n",
              "        text-align: right;\n",
              "    }\n",
              "</style>\n",
              "<table border=\"1\" class=\"dataframe\">\n",
              "  <thead>\n",
              "    <tr style=\"text-align: right;\">\n",
              "      <th></th>\n",
              "      <th>allele</th>\n",
              "      <th>peptide</th>\n",
              "      <th>measurement_value</th>\n",
              "    </tr>\n",
              "  </thead>\n",
              "  <tbody>\n",
              "    <tr>\n",
              "      <th>0</th>\n",
              "      <td>HLA-A*03:01</td>\n",
              "      <td>EVMPVSMAK</td>\n",
              "      <td>340.633333</td>\n",
              "    </tr>\n",
              "    <tr>\n",
              "      <th>1</th>\n",
              "      <td>HLA-A*11:01</td>\n",
              "      <td>EVMPVSMAK</td>\n",
              "      <td>17.140000</td>\n",
              "    </tr>\n",
              "    <tr>\n",
              "      <th>2</th>\n",
              "      <td>HLA-A*03:01</td>\n",
              "      <td>KTFPPTEPK</td>\n",
              "      <td>219.816667</td>\n",
              "    </tr>\n",
              "  </tbody>\n",
              "</table>\n",
              "</div>\n",
              "    <div class=\"colab-df-buttons\">\n",
              "\n",
              "  <div class=\"colab-df-container\">\n",
              "    <button class=\"colab-df-convert\" onclick=\"convertToInteractive('df-8311e05d-8764-4a7f-9912-c33b19a4ed46')\"\n",
              "            title=\"Convert this dataframe to an interactive table.\"\n",
              "            style=\"display:none;\">\n",
              "\n",
              "  <svg xmlns=\"http://www.w3.org/2000/svg\" height=\"24px\" viewBox=\"0 -960 960 960\">\n",
              "    <path d=\"M120-120v-720h720v720H120Zm60-500h600v-160H180v160Zm220 220h160v-160H400v160Zm0 220h160v-160H400v160ZM180-400h160v-160H180v160Zm440 0h160v-160H620v160ZM180-180h160v-160H180v160Zm440 0h160v-160H620v160Z\"/>\n",
              "  </svg>\n",
              "    </button>\n",
              "\n",
              "  <style>\n",
              "    .colab-df-container {\n",
              "      display:flex;\n",
              "      gap: 12px;\n",
              "    }\n",
              "\n",
              "    .colab-df-convert {\n",
              "      background-color: #E8F0FE;\n",
              "      border: none;\n",
              "      border-radius: 50%;\n",
              "      cursor: pointer;\n",
              "      display: none;\n",
              "      fill: #1967D2;\n",
              "      height: 32px;\n",
              "      padding: 0 0 0 0;\n",
              "      width: 32px;\n",
              "    }\n",
              "\n",
              "    .colab-df-convert:hover {\n",
              "      background-color: #E2EBFA;\n",
              "      box-shadow: 0px 1px 2px rgba(60, 64, 67, 0.3), 0px 1px 3px 1px rgba(60, 64, 67, 0.15);\n",
              "      fill: #174EA6;\n",
              "    }\n",
              "\n",
              "    .colab-df-buttons div {\n",
              "      margin-bottom: 4px;\n",
              "    }\n",
              "\n",
              "    [theme=dark] .colab-df-convert {\n",
              "      background-color: #3B4455;\n",
              "      fill: #D2E3FC;\n",
              "    }\n",
              "\n",
              "    [theme=dark] .colab-df-convert:hover {\n",
              "      background-color: #434B5C;\n",
              "      box-shadow: 0px 1px 3px 1px rgba(0, 0, 0, 0.15);\n",
              "      filter: drop-shadow(0px 1px 2px rgba(0, 0, 0, 0.3));\n",
              "      fill: #FFFFFF;\n",
              "    }\n",
              "  </style>\n",
              "\n",
              "    <script>\n",
              "      const buttonEl =\n",
              "        document.querySelector('#df-8311e05d-8764-4a7f-9912-c33b19a4ed46 button.colab-df-convert');\n",
              "      buttonEl.style.display =\n",
              "        google.colab.kernel.accessAllowed ? 'block' : 'none';\n",
              "\n",
              "      async function convertToInteractive(key) {\n",
              "        const element = document.querySelector('#df-8311e05d-8764-4a7f-9912-c33b19a4ed46');\n",
              "        const dataTable =\n",
              "          await google.colab.kernel.invokeFunction('convertToInteractive',\n",
              "                                                    [key], {});\n",
              "        if (!dataTable) return;\n",
              "\n",
              "        const docLinkHtml = 'Like what you see? Visit the ' +\n",
              "          '<a target=\"_blank\" href=https://colab.research.google.com/notebooks/data_table.ipynb>data table notebook</a>'\n",
              "          + ' to learn more about interactive tables.';\n",
              "        element.innerHTML = '';\n",
              "        dataTable['output_type'] = 'display_data';\n",
              "        await google.colab.output.renderOutput(dataTable, element);\n",
              "        const docLink = document.createElement('div');\n",
              "        docLink.innerHTML = docLinkHtml;\n",
              "        element.appendChild(docLink);\n",
              "      }\n",
              "    </script>\n",
              "  </div>\n",
              "\n",
              "\n",
              "<div id=\"df-fb9b4deb-12e9-4b9a-a6b0-0ac2412dd5cf\">\n",
              "  <button class=\"colab-df-quickchart\" onclick=\"quickchart('df-fb9b4deb-12e9-4b9a-a6b0-0ac2412dd5cf')\"\n",
              "            title=\"Suggest charts\"\n",
              "            style=\"display:none;\">\n",
              "\n",
              "<svg xmlns=\"http://www.w3.org/2000/svg\" height=\"24px\"viewBox=\"0 0 24 24\"\n",
              "     width=\"24px\">\n",
              "    <g>\n",
              "        <path d=\"M19 3H5c-1.1 0-2 .9-2 2v14c0 1.1.9 2 2 2h14c1.1 0 2-.9 2-2V5c0-1.1-.9-2-2-2zM9 17H7v-7h2v7zm4 0h-2V7h2v10zm4 0h-2v-4h2v4z\"/>\n",
              "    </g>\n",
              "</svg>\n",
              "  </button>\n",
              "\n",
              "<style>\n",
              "  .colab-df-quickchart {\n",
              "      --bg-color: #E8F0FE;\n",
              "      --fill-color: #1967D2;\n",
              "      --hover-bg-color: #E2EBFA;\n",
              "      --hover-fill-color: #174EA6;\n",
              "      --disabled-fill-color: #AAA;\n",
              "      --disabled-bg-color: #DDD;\n",
              "  }\n",
              "\n",
              "  [theme=dark] .colab-df-quickchart {\n",
              "      --bg-color: #3B4455;\n",
              "      --fill-color: #D2E3FC;\n",
              "      --hover-bg-color: #434B5C;\n",
              "      --hover-fill-color: #FFFFFF;\n",
              "      --disabled-bg-color: #3B4455;\n",
              "      --disabled-fill-color: #666;\n",
              "  }\n",
              "\n",
              "  .colab-df-quickchart {\n",
              "    background-color: var(--bg-color);\n",
              "    border: none;\n",
              "    border-radius: 50%;\n",
              "    cursor: pointer;\n",
              "    display: none;\n",
              "    fill: var(--fill-color);\n",
              "    height: 32px;\n",
              "    padding: 0;\n",
              "    width: 32px;\n",
              "  }\n",
              "\n",
              "  .colab-df-quickchart:hover {\n",
              "    background-color: var(--hover-bg-color);\n",
              "    box-shadow: 0 1px 2px rgba(60, 64, 67, 0.3), 0 1px 3px 1px rgba(60, 64, 67, 0.15);\n",
              "    fill: var(--button-hover-fill-color);\n",
              "  }\n",
              "\n",
              "  .colab-df-quickchart-complete:disabled,\n",
              "  .colab-df-quickchart-complete:disabled:hover {\n",
              "    background-color: var(--disabled-bg-color);\n",
              "    fill: var(--disabled-fill-color);\n",
              "    box-shadow: none;\n",
              "  }\n",
              "\n",
              "  .colab-df-spinner {\n",
              "    border: 2px solid var(--fill-color);\n",
              "    border-color: transparent;\n",
              "    border-bottom-color: var(--fill-color);\n",
              "    animation:\n",
              "      spin 1s steps(1) infinite;\n",
              "  }\n",
              "\n",
              "  @keyframes spin {\n",
              "    0% {\n",
              "      border-color: transparent;\n",
              "      border-bottom-color: var(--fill-color);\n",
              "      border-left-color: var(--fill-color);\n",
              "    }\n",
              "    20% {\n",
              "      border-color: transparent;\n",
              "      border-left-color: var(--fill-color);\n",
              "      border-top-color: var(--fill-color);\n",
              "    }\n",
              "    30% {\n",
              "      border-color: transparent;\n",
              "      border-left-color: var(--fill-color);\n",
              "      border-top-color: var(--fill-color);\n",
              "      border-right-color: var(--fill-color);\n",
              "    }\n",
              "    40% {\n",
              "      border-color: transparent;\n",
              "      border-right-color: var(--fill-color);\n",
              "      border-top-color: var(--fill-color);\n",
              "    }\n",
              "    60% {\n",
              "      border-color: transparent;\n",
              "      border-right-color: var(--fill-color);\n",
              "    }\n",
              "    80% {\n",
              "      border-color: transparent;\n",
              "      border-right-color: var(--fill-color);\n",
              "      border-bottom-color: var(--fill-color);\n",
              "    }\n",
              "    90% {\n",
              "      border-color: transparent;\n",
              "      border-bottom-color: var(--fill-color);\n",
              "    }\n",
              "  }\n",
              "</style>\n",
              "\n",
              "  <script>\n",
              "    async function quickchart(key) {\n",
              "      const quickchartButtonEl =\n",
              "        document.querySelector('#' + key + ' button');\n",
              "      quickchartButtonEl.disabled = true;  // To prevent multiple clicks.\n",
              "      quickchartButtonEl.classList.add('colab-df-spinner');\n",
              "      try {\n",
              "        const charts = await google.colab.kernel.invokeFunction(\n",
              "            'suggestCharts', [key], {});\n",
              "      } catch (error) {\n",
              "        console.error('Error during call to suggestCharts:', error);\n",
              "      }\n",
              "      quickchartButtonEl.classList.remove('colab-df-spinner');\n",
              "      quickchartButtonEl.classList.add('colab-df-quickchart-complete');\n",
              "    }\n",
              "    (() => {\n",
              "      let quickchartButtonEl =\n",
              "        document.querySelector('#df-fb9b4deb-12e9-4b9a-a6b0-0ac2412dd5cf button');\n",
              "      quickchartButtonEl.style.display =\n",
              "        google.colab.kernel.accessAllowed ? 'block' : 'none';\n",
              "    })();\n",
              "  </script>\n",
              "</div>\n",
              "\n",
              "  <div id=\"id_5e2bbbef-1911-4a12-a0e8-790f6c8aaf18\">\n",
              "    <style>\n",
              "      .colab-df-generate {\n",
              "        background-color: #E8F0FE;\n",
              "        border: none;\n",
              "        border-radius: 50%;\n",
              "        cursor: pointer;\n",
              "        display: none;\n",
              "        fill: #1967D2;\n",
              "        height: 32px;\n",
              "        padding: 0 0 0 0;\n",
              "        width: 32px;\n",
              "      }\n",
              "\n",
              "      .colab-df-generate:hover {\n",
              "        background-color: #E2EBFA;\n",
              "        box-shadow: 0px 1px 2px rgba(60, 64, 67, 0.3), 0px 1px 3px 1px rgba(60, 64, 67, 0.15);\n",
              "        fill: #174EA6;\n",
              "      }\n",
              "\n",
              "      [theme=dark] .colab-df-generate {\n",
              "        background-color: #3B4455;\n",
              "        fill: #D2E3FC;\n",
              "      }\n",
              "\n",
              "      [theme=dark] .colab-df-generate:hover {\n",
              "        background-color: #434B5C;\n",
              "        box-shadow: 0px 1px 3px 1px rgba(0, 0, 0, 0.15);\n",
              "        filter: drop-shadow(0px 1px 2px rgba(0, 0, 0, 0.3));\n",
              "        fill: #FFFFFF;\n",
              "      }\n",
              "    </style>\n",
              "    <button class=\"colab-df-generate\" onclick=\"generateWithVariable('test_df')\"\n",
              "            title=\"Generate code using this dataframe.\"\n",
              "            style=\"display:none;\">\n",
              "\n",
              "  <svg xmlns=\"http://www.w3.org/2000/svg\" height=\"24px\"viewBox=\"0 0 24 24\"\n",
              "       width=\"24px\">\n",
              "    <path d=\"M7,19H8.4L18.45,9,17,7.55,7,17.6ZM5,21V16.75L18.45,3.32a2,2,0,0,1,2.83,0l1.4,1.43a1.91,1.91,0,0,1,.58,1.4,1.91,1.91,0,0,1-.58,1.4L9.25,21ZM18.45,9,17,7.55Zm-12,3A5.31,5.31,0,0,0,4.9,8.1,5.31,5.31,0,0,0,1,6.5,5.31,5.31,0,0,0,4.9,4.9,5.31,5.31,0,0,0,6.5,1,5.31,5.31,0,0,0,8.1,4.9,5.31,5.31,0,0,0,12,6.5,5.46,5.46,0,0,0,6.5,12Z\"/>\n",
              "  </svg>\n",
              "    </button>\n",
              "    <script>\n",
              "      (() => {\n",
              "      const buttonEl =\n",
              "        document.querySelector('#id_5e2bbbef-1911-4a12-a0e8-790f6c8aaf18 button.colab-df-generate');\n",
              "      buttonEl.style.display =\n",
              "        google.colab.kernel.accessAllowed ? 'block' : 'none';\n",
              "\n",
              "      buttonEl.onclick = () => {\n",
              "        google.colab.notebook.generateWithVariable('test_df');\n",
              "      }\n",
              "      })();\n",
              "    </script>\n",
              "  </div>\n",
              "\n",
              "    </div>\n",
              "  </div>\n"
            ],
            "application/vnd.google.colaboratory.intrinsic+json": {
              "type": "dataframe",
              "variable_name": "test_df",
              "summary": "{\n  \"name\": \"test_df\",\n  \"rows\": 3,\n  \"fields\": [\n    {\n      \"column\": \"allele\",\n      \"properties\": {\n        \"dtype\": \"string\",\n        \"num_unique_values\": 2,\n        \"samples\": [\n          \"HLA-A*11:01\",\n          \"HLA-A*03:01\"\n        ],\n        \"semantic_type\": \"\",\n        \"description\": \"\"\n      }\n    },\n    {\n      \"column\": \"peptide\",\n      \"properties\": {\n        \"dtype\": \"string\",\n        \"num_unique_values\": 2,\n        \"samples\": [\n          \"KTFPPTEPK\",\n          \"EVMPVSMAK\"\n        ],\n        \"semantic_type\": \"\",\n        \"description\": \"\"\n      }\n    },\n    {\n      \"column\": \"measurement_value\",\n      \"properties\": {\n        \"dtype\": \"number\",\n        \"std\": 163.4637752259231,\n        \"min\": 17.14,\n        \"max\": 340.6333333333333,\n        \"num_unique_values\": 3,\n        \"samples\": [\n          340.6333333333333,\n          17.14\n        ],\n        \"semantic_type\": \"\",\n        \"description\": \"\"\n      }\n    }\n  ]\n}"
            }
          },
          "metadata": {},
          "execution_count": 81
        }
      ]
    },
    {
      "cell_type": "code",
      "source": [
        "test_XY = sequence_functions.get_XY(test_df, \"ONE_HOT\")\n",
        "len(test_XY)"
      ],
      "metadata": {
        "colab": {
          "base_uri": "https://localhost:8080/"
        },
        "id": "MjAtInq1th_q",
        "outputId": "bbf422be-71ef-4252-a4b7-dc5d485913c4"
      },
      "execution_count": null,
      "outputs": [
        {
          "output_type": "execute_result",
          "data": {
            "text/plain": [
              "2"
            ]
          },
          "metadata": {},
          "execution_count": 89
        }
      ]
    },
    {
      "cell_type": "code",
      "source": [
        "test_X_alleles = test_XY[0][0]\n",
        "# 3 (because there are 3 alleles/peptides)\n",
        "len(test_X_alleles)\n",
        "\n",
        "test_X_peptides = test_XY[0][1]\n",
        "# 3 (because there are 3 alleles/peptides)\n",
        "len(test_X_peptides)"
      ],
      "metadata": {
        "colab": {
          "base_uri": "https://localhost:8080/"
        },
        "id": "PfL3JMRRt35Q",
        "outputId": "50c274d9-9ff4-4eb7-9593-62348f4054f9"
      },
      "execution_count": null,
      "outputs": [
        {
          "output_type": "execute_result",
          "data": {
            "text/plain": [
              "3"
            ]
          },
          "metadata": {},
          "execution_count": 101
        }
      ]
    },
    {
      "cell_type": "code",
      "source": [
        "# test_X_allele_1 = test_X_alleles[0]\n",
        "# 34\n",
        "# len(test_X_allele_1)\n",
        "# test_X_allele_1\n",
        "\n",
        "test_X_peptide_1 = test_X_peptides[0]\n",
        "# 15\n",
        "len(test_X_peptide_1)\n",
        "# test_X_peptide_1"
      ],
      "metadata": {
        "colab": {
          "base_uri": "https://localhost:8080/"
        },
        "id": "hqAXVPUCuEhA",
        "outputId": "b003a967-733e-46fa-f99c-bd851ea2e035"
      },
      "execution_count": null,
      "outputs": [
        {
          "output_type": "execute_result",
          "data": {
            "text/plain": [
              "15"
            ]
          },
          "metadata": {},
          "execution_count": 103
        }
      ]
    },
    {
      "cell_type": "markdown",
      "source": [
        "### Play around with classes in mhc_data\n"
      ],
      "metadata": {
        "id": "ukwDwovIpCPe"
      }
    },
    {
      "cell_type": "markdown",
      "source": [
        "#### MHCData object (will contain pseudoseq etc.)"
      ],
      "metadata": {
        "id": "FA1_3vzMZk3_"
      }
    },
    {
      "cell_type": "code",
      "source": [
        "import mhc_data"
      ],
      "metadata": {
        "id": "7Ycy06cMpZKu"
      },
      "execution_count": null,
      "outputs": []
    },
    {
      "cell_type": "code",
      "source": [
        "# Contains both human and non-human\n",
        "# BA + EL\n",
        "test_pMHC_Data_both = mhc_data.pMHC_Data(only_EL=True, drop_duplicate_records=True)\n",
        "test_pMHC_Data_both_data = test_pMHC_Data_both.data\n",
        "test_pMHC_Data_both_data\n"
      ],
      "metadata": {
        "colab": {
          "base_uri": "https://localhost:8080/",
          "height": 423
        },
        "id": "T_cGvTlekwK7",
        "outputId": "f341583e-6c0c-4ac2-8dfd-8f399b608143"
      },
      "execution_count": null,
      "outputs": [
        {
          "output_type": "execute_result",
          "data": {
            "text/plain": [
              "              allele       dataset measurement_inequality measurement_type  \\\n",
              "0        HLA-A*03:01          IEDB                      =               BA   \n",
              "1        HLA-A*11:01          IEDB                      =               BA   \n",
              "2        HLA-A*03:01          IEDB                      =               BA   \n",
              "3        HLA-A*11:01          IEDB                      =               BA   \n",
              "4        HLA-A*03:01          IEDB                      =               BA   \n",
              "...              ...           ...                    ...              ...   \n",
              "1229823  HLA-B*44:02  MHCFlury2_S1                      <               MA   \n",
              "1229825  HLA-A*02:01  MHCFlury2_S1                      <               MA   \n",
              "1229831  HLA-A*02:01  MHCFlury2_S1                      <               MA   \n",
              "1229834  HLA-B*44:02  MHCFlury2_S1                      <               MA   \n",
              "1229836  HLA-B*44:02  MHCFlury2_S1                      <               MA   \n",
              "\n",
              "         measurement_value    peptide   Gene  is_ABC  is_human  \n",
              "0               340.633333  EVMPVSMAK  HLA-A    True      True  \n",
              "1                17.140000  EVMPVSMAK  HLA-A    True      True  \n",
              "2               219.816667  KTFPPTEPK  HLA-A    True      True  \n",
              "3               222.213333  KTFPPTEPK  HLA-A    True      True  \n",
              "4                57.250000  RLYYDSMSY  HLA-A    True      True  \n",
              "...                    ...        ...    ...     ...       ...  \n",
              "1229823         100.000000  AETEKQVAL  HLA-B    True      True  \n",
              "1229825         100.000000  NIFIGIVGV  HLA-A    True      True  \n",
              "1229831         100.000000  SMMKNFFFV  HLA-A    True      True  \n",
              "1229834         100.000000  EEQRAQQQL  HLA-B    True      True  \n",
              "1229836         100.000000  EENMHDLQY  HLA-B    True      True  \n",
              "\n",
              "[729538 rows x 9 columns]"
            ],
            "text/html": [
              "\n",
              "  <div id=\"df-104d6dae-1338-4ec7-93c5-4d185d167ff0\" class=\"colab-df-container\">\n",
              "    <div>\n",
              "<style scoped>\n",
              "    .dataframe tbody tr th:only-of-type {\n",
              "        vertical-align: middle;\n",
              "    }\n",
              "\n",
              "    .dataframe tbody tr th {\n",
              "        vertical-align: top;\n",
              "    }\n",
              "\n",
              "    .dataframe thead th {\n",
              "        text-align: right;\n",
              "    }\n",
              "</style>\n",
              "<table border=\"1\" class=\"dataframe\">\n",
              "  <thead>\n",
              "    <tr style=\"text-align: right;\">\n",
              "      <th></th>\n",
              "      <th>allele</th>\n",
              "      <th>dataset</th>\n",
              "      <th>measurement_inequality</th>\n",
              "      <th>measurement_type</th>\n",
              "      <th>measurement_value</th>\n",
              "      <th>peptide</th>\n",
              "      <th>Gene</th>\n",
              "      <th>is_ABC</th>\n",
              "      <th>is_human</th>\n",
              "    </tr>\n",
              "  </thead>\n",
              "  <tbody>\n",
              "    <tr>\n",
              "      <th>0</th>\n",
              "      <td>HLA-A*03:01</td>\n",
              "      <td>IEDB</td>\n",
              "      <td>=</td>\n",
              "      <td>BA</td>\n",
              "      <td>340.633333</td>\n",
              "      <td>EVMPVSMAK</td>\n",
              "      <td>HLA-A</td>\n",
              "      <td>True</td>\n",
              "      <td>True</td>\n",
              "    </tr>\n",
              "    <tr>\n",
              "      <th>1</th>\n",
              "      <td>HLA-A*11:01</td>\n",
              "      <td>IEDB</td>\n",
              "      <td>=</td>\n",
              "      <td>BA</td>\n",
              "      <td>17.140000</td>\n",
              "      <td>EVMPVSMAK</td>\n",
              "      <td>HLA-A</td>\n",
              "      <td>True</td>\n",
              "      <td>True</td>\n",
              "    </tr>\n",
              "    <tr>\n",
              "      <th>2</th>\n",
              "      <td>HLA-A*03:01</td>\n",
              "      <td>IEDB</td>\n",
              "      <td>=</td>\n",
              "      <td>BA</td>\n",
              "      <td>219.816667</td>\n",
              "      <td>KTFPPTEPK</td>\n",
              "      <td>HLA-A</td>\n",
              "      <td>True</td>\n",
              "      <td>True</td>\n",
              "    </tr>\n",
              "    <tr>\n",
              "      <th>3</th>\n",
              "      <td>HLA-A*11:01</td>\n",
              "      <td>IEDB</td>\n",
              "      <td>=</td>\n",
              "      <td>BA</td>\n",
              "      <td>222.213333</td>\n",
              "      <td>KTFPPTEPK</td>\n",
              "      <td>HLA-A</td>\n",
              "      <td>True</td>\n",
              "      <td>True</td>\n",
              "    </tr>\n",
              "    <tr>\n",
              "      <th>4</th>\n",
              "      <td>HLA-A*03:01</td>\n",
              "      <td>IEDB</td>\n",
              "      <td>=</td>\n",
              "      <td>BA</td>\n",
              "      <td>57.250000</td>\n",
              "      <td>RLYYDSMSY</td>\n",
              "      <td>HLA-A</td>\n",
              "      <td>True</td>\n",
              "      <td>True</td>\n",
              "    </tr>\n",
              "    <tr>\n",
              "      <th>...</th>\n",
              "      <td>...</td>\n",
              "      <td>...</td>\n",
              "      <td>...</td>\n",
              "      <td>...</td>\n",
              "      <td>...</td>\n",
              "      <td>...</td>\n",
              "      <td>...</td>\n",
              "      <td>...</td>\n",
              "      <td>...</td>\n",
              "    </tr>\n",
              "    <tr>\n",
              "      <th>1229823</th>\n",
              "      <td>HLA-B*44:02</td>\n",
              "      <td>MHCFlury2_S1</td>\n",
              "      <td>&lt;</td>\n",
              "      <td>MA</td>\n",
              "      <td>100.000000</td>\n",
              "      <td>AETEKQVAL</td>\n",
              "      <td>HLA-B</td>\n",
              "      <td>True</td>\n",
              "      <td>True</td>\n",
              "    </tr>\n",
              "    <tr>\n",
              "      <th>1229825</th>\n",
              "      <td>HLA-A*02:01</td>\n",
              "      <td>MHCFlury2_S1</td>\n",
              "      <td>&lt;</td>\n",
              "      <td>MA</td>\n",
              "      <td>100.000000</td>\n",
              "      <td>NIFIGIVGV</td>\n",
              "      <td>HLA-A</td>\n",
              "      <td>True</td>\n",
              "      <td>True</td>\n",
              "    </tr>\n",
              "    <tr>\n",
              "      <th>1229831</th>\n",
              "      <td>HLA-A*02:01</td>\n",
              "      <td>MHCFlury2_S1</td>\n",
              "      <td>&lt;</td>\n",
              "      <td>MA</td>\n",
              "      <td>100.000000</td>\n",
              "      <td>SMMKNFFFV</td>\n",
              "      <td>HLA-A</td>\n",
              "      <td>True</td>\n",
              "      <td>True</td>\n",
              "    </tr>\n",
              "    <tr>\n",
              "      <th>1229834</th>\n",
              "      <td>HLA-B*44:02</td>\n",
              "      <td>MHCFlury2_S1</td>\n",
              "      <td>&lt;</td>\n",
              "      <td>MA</td>\n",
              "      <td>100.000000</td>\n",
              "      <td>EEQRAQQQL</td>\n",
              "      <td>HLA-B</td>\n",
              "      <td>True</td>\n",
              "      <td>True</td>\n",
              "    </tr>\n",
              "    <tr>\n",
              "      <th>1229836</th>\n",
              "      <td>HLA-B*44:02</td>\n",
              "      <td>MHCFlury2_S1</td>\n",
              "      <td>&lt;</td>\n",
              "      <td>MA</td>\n",
              "      <td>100.000000</td>\n",
              "      <td>EENMHDLQY</td>\n",
              "      <td>HLA-B</td>\n",
              "      <td>True</td>\n",
              "      <td>True</td>\n",
              "    </tr>\n",
              "  </tbody>\n",
              "</table>\n",
              "<p>729538 rows × 9 columns</p>\n",
              "</div>\n",
              "    <div class=\"colab-df-buttons\">\n",
              "\n",
              "  <div class=\"colab-df-container\">\n",
              "    <button class=\"colab-df-convert\" onclick=\"convertToInteractive('df-104d6dae-1338-4ec7-93c5-4d185d167ff0')\"\n",
              "            title=\"Convert this dataframe to an interactive table.\"\n",
              "            style=\"display:none;\">\n",
              "\n",
              "  <svg xmlns=\"http://www.w3.org/2000/svg\" height=\"24px\" viewBox=\"0 -960 960 960\">\n",
              "    <path d=\"M120-120v-720h720v720H120Zm60-500h600v-160H180v160Zm220 220h160v-160H400v160Zm0 220h160v-160H400v160ZM180-400h160v-160H180v160Zm440 0h160v-160H620v160ZM180-180h160v-160H180v160Zm440 0h160v-160H620v160Z\"/>\n",
              "  </svg>\n",
              "    </button>\n",
              "\n",
              "  <style>\n",
              "    .colab-df-container {\n",
              "      display:flex;\n",
              "      gap: 12px;\n",
              "    }\n",
              "\n",
              "    .colab-df-convert {\n",
              "      background-color: #E8F0FE;\n",
              "      border: none;\n",
              "      border-radius: 50%;\n",
              "      cursor: pointer;\n",
              "      display: none;\n",
              "      fill: #1967D2;\n",
              "      height: 32px;\n",
              "      padding: 0 0 0 0;\n",
              "      width: 32px;\n",
              "    }\n",
              "\n",
              "    .colab-df-convert:hover {\n",
              "      background-color: #E2EBFA;\n",
              "      box-shadow: 0px 1px 2px rgba(60, 64, 67, 0.3), 0px 1px 3px 1px rgba(60, 64, 67, 0.15);\n",
              "      fill: #174EA6;\n",
              "    }\n",
              "\n",
              "    .colab-df-buttons div {\n",
              "      margin-bottom: 4px;\n",
              "    }\n",
              "\n",
              "    [theme=dark] .colab-df-convert {\n",
              "      background-color: #3B4455;\n",
              "      fill: #D2E3FC;\n",
              "    }\n",
              "\n",
              "    [theme=dark] .colab-df-convert:hover {\n",
              "      background-color: #434B5C;\n",
              "      box-shadow: 0px 1px 3px 1px rgba(0, 0, 0, 0.15);\n",
              "      filter: drop-shadow(0px 1px 2px rgba(0, 0, 0, 0.3));\n",
              "      fill: #FFFFFF;\n",
              "    }\n",
              "  </style>\n",
              "\n",
              "    <script>\n",
              "      const buttonEl =\n",
              "        document.querySelector('#df-104d6dae-1338-4ec7-93c5-4d185d167ff0 button.colab-df-convert');\n",
              "      buttonEl.style.display =\n",
              "        google.colab.kernel.accessAllowed ? 'block' : 'none';\n",
              "\n",
              "      async function convertToInteractive(key) {\n",
              "        const element = document.querySelector('#df-104d6dae-1338-4ec7-93c5-4d185d167ff0');\n",
              "        const dataTable =\n",
              "          await google.colab.kernel.invokeFunction('convertToInteractive',\n",
              "                                                    [key], {});\n",
              "        if (!dataTable) return;\n",
              "\n",
              "        const docLinkHtml = 'Like what you see? Visit the ' +\n",
              "          '<a target=\"_blank\" href=https://colab.research.google.com/notebooks/data_table.ipynb>data table notebook</a>'\n",
              "          + ' to learn more about interactive tables.';\n",
              "        element.innerHTML = '';\n",
              "        dataTable['output_type'] = 'display_data';\n",
              "        await google.colab.output.renderOutput(dataTable, element);\n",
              "        const docLink = document.createElement('div');\n",
              "        docLink.innerHTML = docLinkHtml;\n",
              "        element.appendChild(docLink);\n",
              "      }\n",
              "    </script>\n",
              "  </div>\n",
              "\n",
              "\n",
              "<div id=\"df-3c7989da-0b78-4b0f-86fa-7a5378289ecf\">\n",
              "  <button class=\"colab-df-quickchart\" onclick=\"quickchart('df-3c7989da-0b78-4b0f-86fa-7a5378289ecf')\"\n",
              "            title=\"Suggest charts\"\n",
              "            style=\"display:none;\">\n",
              "\n",
              "<svg xmlns=\"http://www.w3.org/2000/svg\" height=\"24px\"viewBox=\"0 0 24 24\"\n",
              "     width=\"24px\">\n",
              "    <g>\n",
              "        <path d=\"M19 3H5c-1.1 0-2 .9-2 2v14c0 1.1.9 2 2 2h14c1.1 0 2-.9 2-2V5c0-1.1-.9-2-2-2zM9 17H7v-7h2v7zm4 0h-2V7h2v10zm4 0h-2v-4h2v4z\"/>\n",
              "    </g>\n",
              "</svg>\n",
              "  </button>\n",
              "\n",
              "<style>\n",
              "  .colab-df-quickchart {\n",
              "      --bg-color: #E8F0FE;\n",
              "      --fill-color: #1967D2;\n",
              "      --hover-bg-color: #E2EBFA;\n",
              "      --hover-fill-color: #174EA6;\n",
              "      --disabled-fill-color: #AAA;\n",
              "      --disabled-bg-color: #DDD;\n",
              "  }\n",
              "\n",
              "  [theme=dark] .colab-df-quickchart {\n",
              "      --bg-color: #3B4455;\n",
              "      --fill-color: #D2E3FC;\n",
              "      --hover-bg-color: #434B5C;\n",
              "      --hover-fill-color: #FFFFFF;\n",
              "      --disabled-bg-color: #3B4455;\n",
              "      --disabled-fill-color: #666;\n",
              "  }\n",
              "\n",
              "  .colab-df-quickchart {\n",
              "    background-color: var(--bg-color);\n",
              "    border: none;\n",
              "    border-radius: 50%;\n",
              "    cursor: pointer;\n",
              "    display: none;\n",
              "    fill: var(--fill-color);\n",
              "    height: 32px;\n",
              "    padding: 0;\n",
              "    width: 32px;\n",
              "  }\n",
              "\n",
              "  .colab-df-quickchart:hover {\n",
              "    background-color: var(--hover-bg-color);\n",
              "    box-shadow: 0 1px 2px rgba(60, 64, 67, 0.3), 0 1px 3px 1px rgba(60, 64, 67, 0.15);\n",
              "    fill: var(--button-hover-fill-color);\n",
              "  }\n",
              "\n",
              "  .colab-df-quickchart-complete:disabled,\n",
              "  .colab-df-quickchart-complete:disabled:hover {\n",
              "    background-color: var(--disabled-bg-color);\n",
              "    fill: var(--disabled-fill-color);\n",
              "    box-shadow: none;\n",
              "  }\n",
              "\n",
              "  .colab-df-spinner {\n",
              "    border: 2px solid var(--fill-color);\n",
              "    border-color: transparent;\n",
              "    border-bottom-color: var(--fill-color);\n",
              "    animation:\n",
              "      spin 1s steps(1) infinite;\n",
              "  }\n",
              "\n",
              "  @keyframes spin {\n",
              "    0% {\n",
              "      border-color: transparent;\n",
              "      border-bottom-color: var(--fill-color);\n",
              "      border-left-color: var(--fill-color);\n",
              "    }\n",
              "    20% {\n",
              "      border-color: transparent;\n",
              "      border-left-color: var(--fill-color);\n",
              "      border-top-color: var(--fill-color);\n",
              "    }\n",
              "    30% {\n",
              "      border-color: transparent;\n",
              "      border-left-color: var(--fill-color);\n",
              "      border-top-color: var(--fill-color);\n",
              "      border-right-color: var(--fill-color);\n",
              "    }\n",
              "    40% {\n",
              "      border-color: transparent;\n",
              "      border-right-color: var(--fill-color);\n",
              "      border-top-color: var(--fill-color);\n",
              "    }\n",
              "    60% {\n",
              "      border-color: transparent;\n",
              "      border-right-color: var(--fill-color);\n",
              "    }\n",
              "    80% {\n",
              "      border-color: transparent;\n",
              "      border-right-color: var(--fill-color);\n",
              "      border-bottom-color: var(--fill-color);\n",
              "    }\n",
              "    90% {\n",
              "      border-color: transparent;\n",
              "      border-bottom-color: var(--fill-color);\n",
              "    }\n",
              "  }\n",
              "</style>\n",
              "\n",
              "  <script>\n",
              "    async function quickchart(key) {\n",
              "      const quickchartButtonEl =\n",
              "        document.querySelector('#' + key + ' button');\n",
              "      quickchartButtonEl.disabled = true;  // To prevent multiple clicks.\n",
              "      quickchartButtonEl.classList.add('colab-df-spinner');\n",
              "      try {\n",
              "        const charts = await google.colab.kernel.invokeFunction(\n",
              "            'suggestCharts', [key], {});\n",
              "      } catch (error) {\n",
              "        console.error('Error during call to suggestCharts:', error);\n",
              "      }\n",
              "      quickchartButtonEl.classList.remove('colab-df-spinner');\n",
              "      quickchartButtonEl.classList.add('colab-df-quickchart-complete');\n",
              "    }\n",
              "    (() => {\n",
              "      let quickchartButtonEl =\n",
              "        document.querySelector('#df-3c7989da-0b78-4b0f-86fa-7a5378289ecf button');\n",
              "      quickchartButtonEl.style.display =\n",
              "        google.colab.kernel.accessAllowed ? 'block' : 'none';\n",
              "    })();\n",
              "  </script>\n",
              "</div>\n",
              "\n",
              "  <div id=\"id_a53ddeac-15cd-43b8-91ea-75278954fb28\">\n",
              "    <style>\n",
              "      .colab-df-generate {\n",
              "        background-color: #E8F0FE;\n",
              "        border: none;\n",
              "        border-radius: 50%;\n",
              "        cursor: pointer;\n",
              "        display: none;\n",
              "        fill: #1967D2;\n",
              "        height: 32px;\n",
              "        padding: 0 0 0 0;\n",
              "        width: 32px;\n",
              "      }\n",
              "\n",
              "      .colab-df-generate:hover {\n",
              "        background-color: #E2EBFA;\n",
              "        box-shadow: 0px 1px 2px rgba(60, 64, 67, 0.3), 0px 1px 3px 1px rgba(60, 64, 67, 0.15);\n",
              "        fill: #174EA6;\n",
              "      }\n",
              "\n",
              "      [theme=dark] .colab-df-generate {\n",
              "        background-color: #3B4455;\n",
              "        fill: #D2E3FC;\n",
              "      }\n",
              "\n",
              "      [theme=dark] .colab-df-generate:hover {\n",
              "        background-color: #434B5C;\n",
              "        box-shadow: 0px 1px 3px 1px rgba(0, 0, 0, 0.15);\n",
              "        filter: drop-shadow(0px 1px 2px rgba(0, 0, 0, 0.3));\n",
              "        fill: #FFFFFF;\n",
              "      }\n",
              "    </style>\n",
              "    <button class=\"colab-df-generate\" onclick=\"generateWithVariable('test_pMHC_Data_both_data')\"\n",
              "            title=\"Generate code using this dataframe.\"\n",
              "            style=\"display:none;\">\n",
              "\n",
              "  <svg xmlns=\"http://www.w3.org/2000/svg\" height=\"24px\"viewBox=\"0 0 24 24\"\n",
              "       width=\"24px\">\n",
              "    <path d=\"M7,19H8.4L18.45,9,17,7.55,7,17.6ZM5,21V16.75L18.45,3.32a2,2,0,0,1,2.83,0l1.4,1.43a1.91,1.91,0,0,1,.58,1.4,1.91,1.91,0,0,1-.58,1.4L9.25,21ZM18.45,9,17,7.55Zm-12,3A5.31,5.31,0,0,0,4.9,8.1,5.31,5.31,0,0,0,1,6.5,5.31,5.31,0,0,0,4.9,4.9,5.31,5.31,0,0,0,6.5,1,5.31,5.31,0,0,0,8.1,4.9,5.31,5.31,0,0,0,12,6.5,5.46,5.46,0,0,0,6.5,12Z\"/>\n",
              "  </svg>\n",
              "    </button>\n",
              "    <script>\n",
              "      (() => {\n",
              "      const buttonEl =\n",
              "        document.querySelector('#id_a53ddeac-15cd-43b8-91ea-75278954fb28 button.colab-df-generate');\n",
              "      buttonEl.style.display =\n",
              "        google.colab.kernel.accessAllowed ? 'block' : 'none';\n",
              "\n",
              "      buttonEl.onclick = () => {\n",
              "        google.colab.notebook.generateWithVariable('test_pMHC_Data_both_data');\n",
              "      }\n",
              "      })();\n",
              "    </script>\n",
              "  </div>\n",
              "\n",
              "    </div>\n",
              "  </div>\n"
            ],
            "application/vnd.google.colaboratory.intrinsic+json": {
              "type": "dataframe",
              "variable_name": "test_pMHC_Data_both_data"
            }
          },
          "metadata": {},
          "execution_count": 140
        }
      ]
    },
    {
      "cell_type": "code",
      "source": [
        "test_pMHC_Data_both.positives\n"
      ],
      "metadata": {
        "colab": {
          "base_uri": "https://localhost:8080/",
          "height": 423
        },
        "id": "o4_zxbiMlzBr",
        "outputId": "002bae6f-492e-4b2d-bad9-d824c12d36a6"
      },
      "execution_count": null,
      "outputs": [
        {
          "output_type": "execute_result",
          "data": {
            "text/plain": [
              "              allele       dataset measurement_inequality measurement_type  \\\n",
              "180874        H-2-Kd          IEDB                      <               SA   \n",
              "180875   HLA-B*15:16          IEDB                      <               SA   \n",
              "180876   HLA-B*15:16          IEDB                      <               SA   \n",
              "180877   HLA-B*15:16          IEDB                      <               SA   \n",
              "180878   HLA-B*14:02          IEDB                      <               SA   \n",
              "...              ...           ...                    ...              ...   \n",
              "1229823  HLA-B*44:02  MHCFlury2_S1                      <               MA   \n",
              "1229825  HLA-A*02:01  MHCFlury2_S1                      <               MA   \n",
              "1229831  HLA-A*02:01  MHCFlury2_S1                      <               MA   \n",
              "1229834  HLA-B*44:02  MHCFlury2_S1                      <               MA   \n",
              "1229836  HLA-B*44:02  MHCFlury2_S1                      <               MA   \n",
              "\n",
              "         measurement_value    peptide   Gene  is_ABC  is_human  \n",
              "180874               100.0  TYQRTRALV  H-2-K   False     False  \n",
              "180875               100.0  VSYGSIVTY  HLA-B    True      True  \n",
              "180876               100.0  LTDPSQRLV  HLA-B    True      True  \n",
              "180877               100.0  YTIPPGHQV  HLA-B    True      True  \n",
              "180878               100.0  DRYRRIHSL  HLA-B    True      True  \n",
              "...                    ...        ...    ...     ...       ...  \n",
              "1229823              100.0  AETEKQVAL  HLA-B    True      True  \n",
              "1229825              100.0  NIFIGIVGV  HLA-A    True      True  \n",
              "1229831              100.0  SMMKNFFFV  HLA-A    True      True  \n",
              "1229834              100.0  EEQRAQQQL  HLA-B    True      True  \n",
              "1229836              100.0  EENMHDLQY  HLA-B    True      True  \n",
              "\n",
              "[553779 rows x 9 columns]"
            ],
            "text/html": [
              "\n",
              "  <div id=\"df-ebff3a93-d1c6-4afd-b6b1-c83497d1a746\" class=\"colab-df-container\">\n",
              "    <div>\n",
              "<style scoped>\n",
              "    .dataframe tbody tr th:only-of-type {\n",
              "        vertical-align: middle;\n",
              "    }\n",
              "\n",
              "    .dataframe tbody tr th {\n",
              "        vertical-align: top;\n",
              "    }\n",
              "\n",
              "    .dataframe thead th {\n",
              "        text-align: right;\n",
              "    }\n",
              "</style>\n",
              "<table border=\"1\" class=\"dataframe\">\n",
              "  <thead>\n",
              "    <tr style=\"text-align: right;\">\n",
              "      <th></th>\n",
              "      <th>allele</th>\n",
              "      <th>dataset</th>\n",
              "      <th>measurement_inequality</th>\n",
              "      <th>measurement_type</th>\n",
              "      <th>measurement_value</th>\n",
              "      <th>peptide</th>\n",
              "      <th>Gene</th>\n",
              "      <th>is_ABC</th>\n",
              "      <th>is_human</th>\n",
              "    </tr>\n",
              "  </thead>\n",
              "  <tbody>\n",
              "    <tr>\n",
              "      <th>180874</th>\n",
              "      <td>H-2-Kd</td>\n",
              "      <td>IEDB</td>\n",
              "      <td>&lt;</td>\n",
              "      <td>SA</td>\n",
              "      <td>100.0</td>\n",
              "      <td>TYQRTRALV</td>\n",
              "      <td>H-2-K</td>\n",
              "      <td>False</td>\n",
              "      <td>False</td>\n",
              "    </tr>\n",
              "    <tr>\n",
              "      <th>180875</th>\n",
              "      <td>HLA-B*15:16</td>\n",
              "      <td>IEDB</td>\n",
              "      <td>&lt;</td>\n",
              "      <td>SA</td>\n",
              "      <td>100.0</td>\n",
              "      <td>VSYGSIVTY</td>\n",
              "      <td>HLA-B</td>\n",
              "      <td>True</td>\n",
              "      <td>True</td>\n",
              "    </tr>\n",
              "    <tr>\n",
              "      <th>180876</th>\n",
              "      <td>HLA-B*15:16</td>\n",
              "      <td>IEDB</td>\n",
              "      <td>&lt;</td>\n",
              "      <td>SA</td>\n",
              "      <td>100.0</td>\n",
              "      <td>LTDPSQRLV</td>\n",
              "      <td>HLA-B</td>\n",
              "      <td>True</td>\n",
              "      <td>True</td>\n",
              "    </tr>\n",
              "    <tr>\n",
              "      <th>180877</th>\n",
              "      <td>HLA-B*15:16</td>\n",
              "      <td>IEDB</td>\n",
              "      <td>&lt;</td>\n",
              "      <td>SA</td>\n",
              "      <td>100.0</td>\n",
              "      <td>YTIPPGHQV</td>\n",
              "      <td>HLA-B</td>\n",
              "      <td>True</td>\n",
              "      <td>True</td>\n",
              "    </tr>\n",
              "    <tr>\n",
              "      <th>180878</th>\n",
              "      <td>HLA-B*14:02</td>\n",
              "      <td>IEDB</td>\n",
              "      <td>&lt;</td>\n",
              "      <td>SA</td>\n",
              "      <td>100.0</td>\n",
              "      <td>DRYRRIHSL</td>\n",
              "      <td>HLA-B</td>\n",
              "      <td>True</td>\n",
              "      <td>True</td>\n",
              "    </tr>\n",
              "    <tr>\n",
              "      <th>...</th>\n",
              "      <td>...</td>\n",
              "      <td>...</td>\n",
              "      <td>...</td>\n",
              "      <td>...</td>\n",
              "      <td>...</td>\n",
              "      <td>...</td>\n",
              "      <td>...</td>\n",
              "      <td>...</td>\n",
              "      <td>...</td>\n",
              "    </tr>\n",
              "    <tr>\n",
              "      <th>1229823</th>\n",
              "      <td>HLA-B*44:02</td>\n",
              "      <td>MHCFlury2_S1</td>\n",
              "      <td>&lt;</td>\n",
              "      <td>MA</td>\n",
              "      <td>100.0</td>\n",
              "      <td>AETEKQVAL</td>\n",
              "      <td>HLA-B</td>\n",
              "      <td>True</td>\n",
              "      <td>True</td>\n",
              "    </tr>\n",
              "    <tr>\n",
              "      <th>1229825</th>\n",
              "      <td>HLA-A*02:01</td>\n",
              "      <td>MHCFlury2_S1</td>\n",
              "      <td>&lt;</td>\n",
              "      <td>MA</td>\n",
              "      <td>100.0</td>\n",
              "      <td>NIFIGIVGV</td>\n",
              "      <td>HLA-A</td>\n",
              "      <td>True</td>\n",
              "      <td>True</td>\n",
              "    </tr>\n",
              "    <tr>\n",
              "      <th>1229831</th>\n",
              "      <td>HLA-A*02:01</td>\n",
              "      <td>MHCFlury2_S1</td>\n",
              "      <td>&lt;</td>\n",
              "      <td>MA</td>\n",
              "      <td>100.0</td>\n",
              "      <td>SMMKNFFFV</td>\n",
              "      <td>HLA-A</td>\n",
              "      <td>True</td>\n",
              "      <td>True</td>\n",
              "    </tr>\n",
              "    <tr>\n",
              "      <th>1229834</th>\n",
              "      <td>HLA-B*44:02</td>\n",
              "      <td>MHCFlury2_S1</td>\n",
              "      <td>&lt;</td>\n",
              "      <td>MA</td>\n",
              "      <td>100.0</td>\n",
              "      <td>EEQRAQQQL</td>\n",
              "      <td>HLA-B</td>\n",
              "      <td>True</td>\n",
              "      <td>True</td>\n",
              "    </tr>\n",
              "    <tr>\n",
              "      <th>1229836</th>\n",
              "      <td>HLA-B*44:02</td>\n",
              "      <td>MHCFlury2_S1</td>\n",
              "      <td>&lt;</td>\n",
              "      <td>MA</td>\n",
              "      <td>100.0</td>\n",
              "      <td>EENMHDLQY</td>\n",
              "      <td>HLA-B</td>\n",
              "      <td>True</td>\n",
              "      <td>True</td>\n",
              "    </tr>\n",
              "  </tbody>\n",
              "</table>\n",
              "<p>553779 rows × 9 columns</p>\n",
              "</div>\n",
              "    <div class=\"colab-df-buttons\">\n",
              "\n",
              "  <div class=\"colab-df-container\">\n",
              "    <button class=\"colab-df-convert\" onclick=\"convertToInteractive('df-ebff3a93-d1c6-4afd-b6b1-c83497d1a746')\"\n",
              "            title=\"Convert this dataframe to an interactive table.\"\n",
              "            style=\"display:none;\">\n",
              "\n",
              "  <svg xmlns=\"http://www.w3.org/2000/svg\" height=\"24px\" viewBox=\"0 -960 960 960\">\n",
              "    <path d=\"M120-120v-720h720v720H120Zm60-500h600v-160H180v160Zm220 220h160v-160H400v160Zm0 220h160v-160H400v160ZM180-400h160v-160H180v160Zm440 0h160v-160H620v160ZM180-180h160v-160H180v160Zm440 0h160v-160H620v160Z\"/>\n",
              "  </svg>\n",
              "    </button>\n",
              "\n",
              "  <style>\n",
              "    .colab-df-container {\n",
              "      display:flex;\n",
              "      gap: 12px;\n",
              "    }\n",
              "\n",
              "    .colab-df-convert {\n",
              "      background-color: #E8F0FE;\n",
              "      border: none;\n",
              "      border-radius: 50%;\n",
              "      cursor: pointer;\n",
              "      display: none;\n",
              "      fill: #1967D2;\n",
              "      height: 32px;\n",
              "      padding: 0 0 0 0;\n",
              "      width: 32px;\n",
              "    }\n",
              "\n",
              "    .colab-df-convert:hover {\n",
              "      background-color: #E2EBFA;\n",
              "      box-shadow: 0px 1px 2px rgba(60, 64, 67, 0.3), 0px 1px 3px 1px rgba(60, 64, 67, 0.15);\n",
              "      fill: #174EA6;\n",
              "    }\n",
              "\n",
              "    .colab-df-buttons div {\n",
              "      margin-bottom: 4px;\n",
              "    }\n",
              "\n",
              "    [theme=dark] .colab-df-convert {\n",
              "      background-color: #3B4455;\n",
              "      fill: #D2E3FC;\n",
              "    }\n",
              "\n",
              "    [theme=dark] .colab-df-convert:hover {\n",
              "      background-color: #434B5C;\n",
              "      box-shadow: 0px 1px 3px 1px rgba(0, 0, 0, 0.15);\n",
              "      filter: drop-shadow(0px 1px 2px rgba(0, 0, 0, 0.3));\n",
              "      fill: #FFFFFF;\n",
              "    }\n",
              "  </style>\n",
              "\n",
              "    <script>\n",
              "      const buttonEl =\n",
              "        document.querySelector('#df-ebff3a93-d1c6-4afd-b6b1-c83497d1a746 button.colab-df-convert');\n",
              "      buttonEl.style.display =\n",
              "        google.colab.kernel.accessAllowed ? 'block' : 'none';\n",
              "\n",
              "      async function convertToInteractive(key) {\n",
              "        const element = document.querySelector('#df-ebff3a93-d1c6-4afd-b6b1-c83497d1a746');\n",
              "        const dataTable =\n",
              "          await google.colab.kernel.invokeFunction('convertToInteractive',\n",
              "                                                    [key], {});\n",
              "        if (!dataTable) return;\n",
              "\n",
              "        const docLinkHtml = 'Like what you see? Visit the ' +\n",
              "          '<a target=\"_blank\" href=https://colab.research.google.com/notebooks/data_table.ipynb>data table notebook</a>'\n",
              "          + ' to learn more about interactive tables.';\n",
              "        element.innerHTML = '';\n",
              "        dataTable['output_type'] = 'display_data';\n",
              "        await google.colab.output.renderOutput(dataTable, element);\n",
              "        const docLink = document.createElement('div');\n",
              "        docLink.innerHTML = docLinkHtml;\n",
              "        element.appendChild(docLink);\n",
              "      }\n",
              "    </script>\n",
              "  </div>\n",
              "\n",
              "\n",
              "<div id=\"df-9b5b2a36-ce13-4406-b813-47ddedbab63b\">\n",
              "  <button class=\"colab-df-quickchart\" onclick=\"quickchart('df-9b5b2a36-ce13-4406-b813-47ddedbab63b')\"\n",
              "            title=\"Suggest charts\"\n",
              "            style=\"display:none;\">\n",
              "\n",
              "<svg xmlns=\"http://www.w3.org/2000/svg\" height=\"24px\"viewBox=\"0 0 24 24\"\n",
              "     width=\"24px\">\n",
              "    <g>\n",
              "        <path d=\"M19 3H5c-1.1 0-2 .9-2 2v14c0 1.1.9 2 2 2h14c1.1 0 2-.9 2-2V5c0-1.1-.9-2-2-2zM9 17H7v-7h2v7zm4 0h-2V7h2v10zm4 0h-2v-4h2v4z\"/>\n",
              "    </g>\n",
              "</svg>\n",
              "  </button>\n",
              "\n",
              "<style>\n",
              "  .colab-df-quickchart {\n",
              "      --bg-color: #E8F0FE;\n",
              "      --fill-color: #1967D2;\n",
              "      --hover-bg-color: #E2EBFA;\n",
              "      --hover-fill-color: #174EA6;\n",
              "      --disabled-fill-color: #AAA;\n",
              "      --disabled-bg-color: #DDD;\n",
              "  }\n",
              "\n",
              "  [theme=dark] .colab-df-quickchart {\n",
              "      --bg-color: #3B4455;\n",
              "      --fill-color: #D2E3FC;\n",
              "      --hover-bg-color: #434B5C;\n",
              "      --hover-fill-color: #FFFFFF;\n",
              "      --disabled-bg-color: #3B4455;\n",
              "      --disabled-fill-color: #666;\n",
              "  }\n",
              "\n",
              "  .colab-df-quickchart {\n",
              "    background-color: var(--bg-color);\n",
              "    border: none;\n",
              "    border-radius: 50%;\n",
              "    cursor: pointer;\n",
              "    display: none;\n",
              "    fill: var(--fill-color);\n",
              "    height: 32px;\n",
              "    padding: 0;\n",
              "    width: 32px;\n",
              "  }\n",
              "\n",
              "  .colab-df-quickchart:hover {\n",
              "    background-color: var(--hover-bg-color);\n",
              "    box-shadow: 0 1px 2px rgba(60, 64, 67, 0.3), 0 1px 3px 1px rgba(60, 64, 67, 0.15);\n",
              "    fill: var(--button-hover-fill-color);\n",
              "  }\n",
              "\n",
              "  .colab-df-quickchart-complete:disabled,\n",
              "  .colab-df-quickchart-complete:disabled:hover {\n",
              "    background-color: var(--disabled-bg-color);\n",
              "    fill: var(--disabled-fill-color);\n",
              "    box-shadow: none;\n",
              "  }\n",
              "\n",
              "  .colab-df-spinner {\n",
              "    border: 2px solid var(--fill-color);\n",
              "    border-color: transparent;\n",
              "    border-bottom-color: var(--fill-color);\n",
              "    animation:\n",
              "      spin 1s steps(1) infinite;\n",
              "  }\n",
              "\n",
              "  @keyframes spin {\n",
              "    0% {\n",
              "      border-color: transparent;\n",
              "      border-bottom-color: var(--fill-color);\n",
              "      border-left-color: var(--fill-color);\n",
              "    }\n",
              "    20% {\n",
              "      border-color: transparent;\n",
              "      border-left-color: var(--fill-color);\n",
              "      border-top-color: var(--fill-color);\n",
              "    }\n",
              "    30% {\n",
              "      border-color: transparent;\n",
              "      border-left-color: var(--fill-color);\n",
              "      border-top-color: var(--fill-color);\n",
              "      border-right-color: var(--fill-color);\n",
              "    }\n",
              "    40% {\n",
              "      border-color: transparent;\n",
              "      border-right-color: var(--fill-color);\n",
              "      border-top-color: var(--fill-color);\n",
              "    }\n",
              "    60% {\n",
              "      border-color: transparent;\n",
              "      border-right-color: var(--fill-color);\n",
              "    }\n",
              "    80% {\n",
              "      border-color: transparent;\n",
              "      border-right-color: var(--fill-color);\n",
              "      border-bottom-color: var(--fill-color);\n",
              "    }\n",
              "    90% {\n",
              "      border-color: transparent;\n",
              "      border-bottom-color: var(--fill-color);\n",
              "    }\n",
              "  }\n",
              "</style>\n",
              "\n",
              "  <script>\n",
              "    async function quickchart(key) {\n",
              "      const quickchartButtonEl =\n",
              "        document.querySelector('#' + key + ' button');\n",
              "      quickchartButtonEl.disabled = true;  // To prevent multiple clicks.\n",
              "      quickchartButtonEl.classList.add('colab-df-spinner');\n",
              "      try {\n",
              "        const charts = await google.colab.kernel.invokeFunction(\n",
              "            'suggestCharts', [key], {});\n",
              "      } catch (error) {\n",
              "        console.error('Error during call to suggestCharts:', error);\n",
              "      }\n",
              "      quickchartButtonEl.classList.remove('colab-df-spinner');\n",
              "      quickchartButtonEl.classList.add('colab-df-quickchart-complete');\n",
              "    }\n",
              "    (() => {\n",
              "      let quickchartButtonEl =\n",
              "        document.querySelector('#df-9b5b2a36-ce13-4406-b813-47ddedbab63b button');\n",
              "      quickchartButtonEl.style.display =\n",
              "        google.colab.kernel.accessAllowed ? 'block' : 'none';\n",
              "    })();\n",
              "  </script>\n",
              "</div>\n",
              "\n",
              "    </div>\n",
              "  </div>\n"
            ],
            "application/vnd.google.colaboratory.intrinsic+json": {
              "type": "dataframe"
            }
          },
          "metadata": {},
          "execution_count": 141
        }
      ]
    },
    {
      "cell_type": "code",
      "source": [
        "non_zero_alleles = set()\n",
        "for allele in test_dict:\n",
        "  count = test_dict[allele]\n",
        "  if count != 0:\n",
        "    non_zero_alleles.add(allele)"
      ],
      "metadata": {
        "id": "fqBqBbiRmacQ"
      },
      "execution_count": null,
      "outputs": []
    },
    {
      "cell_type": "code",
      "source": [
        "non_zero_alleles"
      ],
      "metadata": {
        "id": "Hm721AEprCjY"
      },
      "execution_count": null,
      "outputs": []
    },
    {
      "cell_type": "code",
      "source": [
        "len(test_dict)"
      ],
      "metadata": {
        "colab": {
          "base_uri": "https://localhost:8080/"
        },
        "id": "shAFaprlmliZ",
        "outputId": "446e47f2-cfc3-4702-f1e6-a8128209e85e"
      },
      "execution_count": null,
      "outputs": [
        {
          "output_type": "execute_result",
          "data": {
            "text/plain": [
              "14637"
            ]
          },
          "metadata": {},
          "execution_count": 16
        }
      ]
    },
    {
      "cell_type": "markdown",
      "source": [
        "### Playing around with saved model"
      ],
      "metadata": {
        "id": "av08E7wq0tSN"
      }
    },
    {
      "cell_type": "code",
      "source": [
        "# sys.path.append(\"/content/mhcglobe/src/model/mhcglobe/full/model14_fold13_ONE_HOT_full\")\n",
        "sys.path.append(\"/content/mhcglobe/src/model/mhcglobe/init/model14_fold13_ONE_HOT_full\")"
      ],
      "metadata": {
        "id": "q1NBaF3k0sk3"
      },
      "execution_count": null,
      "outputs": []
    },
    {
      "cell_type": "code",
      "source": [
        "# model_dir = \"/content/mhcglobe/model/mhcglobe/full/model14_fold13_ONE_HOT_full/\"\n",
        "model_dir = \"/content/mhcglobe/model/mhcglobe/init/model14_fold13_ONE_HOT_init/\"\n",
        "eric_model_1 = tf.saved_model.load(model_dir)\n",
        "\n",
        "# model_dir = \"/content/mhcglobe/model/mhcglobe/init/model37_fold15_ONE_HOT_init\"\n",
        "# eric_model_2 = tf.saved_model.load(model_dir)"
      ],
      "metadata": {
        "id": "NWWv46iy1VR5"
      },
      "execution_count": null,
      "outputs": []
    },
    {
      "cell_type": "code",
      "source": [
        "for var in eric_model_1.variables:\n",
        "    print(var.name, var.shape)"
      ],
      "metadata": {
        "colab": {
          "base_uri": "https://localhost:8080/"
        },
        "id": "KUrLTN9D4DxL",
        "outputId": "eb90692a-6b4d-40eb-8e15-fd16c9800381"
      },
      "execution_count": null,
      "outputs": [
        {
          "output_type": "stream",
          "name": "stdout",
          "text": [
            "d1/kernel:0 (980, 256)\n",
            "d1/bias:0 (256,)\n",
            "d2/kernel:0 (1236, 512)\n",
            "d2/bias:0 (512,)\n",
            "d3/kernel:0 (512, 128)\n",
            "d3/bias:0 (128,)\n",
            "output/kernel:0 (128, 1)\n",
            "output/bias:0 (1,)\n"
          ]
        }
      ]
    },
    {
      "cell_type": "code",
      "source": [
        "eric_model_1.signatures"
      ],
      "metadata": {
        "colab": {
          "base_uri": "https://localhost:8080/"
        },
        "id": "7v-Wxj3d1lAM",
        "outputId": "158d10e5-0a50-4f1c-f6fa-cd9259d573a4"
      },
      "execution_count": null,
      "outputs": [
        {
          "output_type": "execute_result",
          "data": {
            "text/plain": [
              "_SignatureMap({'serving_default': <ConcreteFunction (*, peptide_input: TensorSpec(shape=(None, 15, 20), dtype=tf.float32, name='peptide_input'), mhc_input: TensorSpec(shape=(None, 34, 20), dtype=tf.float32, name='mhc_input')) -> Dict[['output', TensorSpec(shape=(None, 1), dtype=tf.float32, name='output')]] at 0x7D33B4BC9B70>})"
            ]
          },
          "metadata": {},
          "execution_count": 20
        }
      ]
    },
    {
      "cell_type": "code",
      "source": [
        "# ChatGPT\n",
        "\n",
        "# Path to the directory containing the checkpoint files, without the file extension\n",
        "checkpoint_path = \"/content/mhcglobe/model/mhcglobe/full/model14_fold13_ONE_HOT_full/variables/\"\n",
        "\n",
        "# Create a CheckpointReader\n",
        "reader = tf.train.load_checkpoint(checkpoint_path)\n",
        "\n",
        "# List variable names and shapes\n",
        "var_shapes = reader.get_variable_to_shape_map()\n",
        "for name in var_shapes:\n",
        "    print(f\"Variable name: {name}, shape: {var_shapes[name]}\")"
      ],
      "metadata": {
        "id": "IehMsywf5ksp"
      },
      "execution_count": null,
      "outputs": []
    },
    {
      "cell_type": "markdown",
      "source": [
        "### Attempt to load Eric's model and inspect contents - FAILURE"
      ],
      "metadata": {
        "id": "ECfuHiZ1IEgc"
      }
    },
    {
      "cell_type": "code",
      "source": [
        "import train_functions"
      ],
      "metadata": {
        "id": "npD1f4HSIG5n"
      },
      "execution_count": null,
      "outputs": []
    },
    {
      "cell_type": "code",
      "source": [
        "eric_model_1b = train_functions.load_trained_mhcglobe_model(model_path=model_dir)"
      ],
      "metadata": {
        "id": "CNXEildRIW_5"
      },
      "execution_count": null,
      "outputs": []
    },
    {
      "cell_type": "code",
      "source": [
        "help(eric_model_1b)"
      ],
      "metadata": {
        "id": "DhY4J7r0ItMZ"
      },
      "execution_count": null,
      "outputs": []
    },
    {
      "cell_type": "code",
      "source": [
        "import tensorflow as tf\n",
        "\n",
        "checkpoint_path = \"/content/mhcglobe/model/mhcglobe/full/model14_fold13_ONE_HOT_full/variables/variables.data-00000-of-00002\"\n",
        "\n",
        "# Create a checkpoint reader\n",
        "reader = tf.train.load_checkpoint(checkpoint_path)\n",
        "\n",
        "# Get the variable names\n",
        "variable_names = reader.get_variable_to_shape_map().keys()\n",
        "\n",
        "# Print the variable names\n",
        "for variable_name in variable_names:\n",
        "  print(variable_name)\n",
        "\n",
        "# Get the value of a variable\n",
        "variable_value = reader.get_tensor(variable_name)\n",
        "\n",
        "# Print the variable value\n",
        "print(variable_value)"
      ],
      "metadata": {
        "id": "iGou6Z8K5puu"
      },
      "execution_count": null,
      "outputs": []
    },
    {
      "cell_type": "markdown",
      "source": [
        "## Attempting to train model/use mhcglobe functions"
      ],
      "metadata": {
        "id": "W7KaNrWhkPtZ"
      }
    },
    {
      "cell_type": "code",
      "source": [
        "import mhcglobe"
      ],
      "metadata": {
        "id": "tobKAtg0kXcN"
      },
      "execution_count": null,
      "outputs": []
    },
    {
      "cell_type": "code",
      "source": [
        "test_ensemble = mhcglobe.ensemble(train_type=\"init\")"
      ],
      "metadata": {
        "id": "IfECpEQTka0r"
      },
      "execution_count": null,
      "outputs": []
    },
    {
      "cell_type": "code",
      "source": [
        "test_ensemble_base_models = test_ensemble.ensemble_base_models\n",
        "test_ensemble_base_models"
      ],
      "metadata": {
        "id": "CFX45DWTkwn3",
        "outputId": "d22768e7-5e18-44f4-f1eb-0c82c577f820",
        "colab": {
          "base_uri": "https://localhost:8080/"
        }
      },
      "execution_count": null,
      "outputs": [
        {
          "output_type": "execute_result",
          "data": {
            "text/plain": [
              "[<keras.src.engine.functional.Functional at 0x7d33ab123040>,\n",
              " <keras.src.engine.functional.Functional at 0x7d3329c5aa40>,\n",
              " <keras.src.engine.functional.Functional at 0x7d3329f19e70>]"
            ]
          },
          "metadata": {},
          "execution_count": 146
        }
      ]
    },
    {
      "cell_type": "code",
      "source": [
        "# Try to train this!\n",
        "# Let's get the data from all mhc training\n"
      ],
      "metadata": {
        "id": "PA-Ycyp3m4b-"
      },
      "execution_count": null,
      "outputs": []
    },
    {
      "cell_type": "markdown",
      "source": [
        "## 1. Make your dataset. Make a one-hot version and a BERT version of X (aka inputs). Y (outputs) is the same"
      ],
      "metadata": {
        "id": "eiM8avSacBdk"
      }
    },
    {
      "cell_type": "markdown",
      "source": [
        "## 2. Load one of my base tensorflow models. Then make sure it can predict with the one-hot input\n",
        "\n",
        "Don't forget early stopping, etc. as Eric did during training! Q: does this only pertain to hyperparameter tuning?"
      ],
      "metadata": {
        "id": "25UwDi4ucEPi"
      }
    },
    {
      "cell_type": "code",
      "source": [
        "# df_train [allele, peptide, measurement_value]\n",
        "df_train =\n",
        "\n",
        "# Data\n",
        "X_tr, Y_tr, X_es, Y_es = self.setup_data_training(df_train)\n",
        "\n",
        "# Train\n",
        "new_model = trainf.train_mhcglobe_model(init_model, X_tr, Y_tr, X_es, Y_es, new_model_path, verbose)"
      ],
      "metadata": {
        "id": "L6TeHxBwtnwV"
      },
      "execution_count": null,
      "outputs": []
    },
    {
      "cell_type": "markdown",
      "source": [
        "## 3. Add a fully connected layer (also called linear layer) to the beginning of my tensorflow model so that it can take the larger BERT dimension input\n",
        "\n",
        "\n",
        "\n"
      ],
      "metadata": {
        "id": "S6r5fjPacJB-"
      }
    },
    {
      "cell_type": "markdown",
      "source": [
        "## 4. Retrain the model in 3 above now that you have new features. The retraining in 4 should be with human data.\n"
      ],
      "metadata": {
        "id": "i25XW2lRcL09"
      }
    },
    {
      "cell_type": "markdown",
      "source": [
        "## 5. Compare performance of the models with one-hot or BERT input. This will give you a clue of your features will help"
      ],
      "metadata": {
        "id": "FLKaC-56cPWW"
      }
    },
    {
      "cell_type": "markdown",
      "source": [
        "### Predict on the model"
      ],
      "metadata": {
        "id": "r0bXDFojDf2-"
      }
    },
    {
      "cell_type": "code",
      "source": [
        "import sequence_functions as seqf\n",
        "# 1) Load Base model\n",
        "model_dir = \"/content/mhcglobe/model/mhcglobe/full/model14_fold13_ONE_HOT_full/\"\n",
        "\n",
        "# Both methods work!\n",
        "eric_model_1b = train_functions.load_trained_mhcglobe_model(model_path=model_dir)\n",
        "# eric_model_1 = tf.saved_model.load(model_dir)\n",
        "\n",
        "# 2) Load binding data as CSV. Required columns are `allele` and `peptide`.\n",
        "df_csv = '/content/mhcglobe/example/example_binding_data.csv'\n",
        "prediction_cols = ['allele', 'peptide']\n",
        "\n",
        "# 3) Use functions\n",
        "pMHC_data = pd.read_csv(df_csv, usecols=prediction_cols)\n",
        "X = seqf.get_XY(pMHC_data, encode_type=\"ONE_HOT\", get_Y=False)\n",
        "eric_model_1b.predict(X)"
      ],
      "metadata": {
        "id": "SiFM1qFADiEu"
      },
      "execution_count": null,
      "outputs": []
    },
    {
      "cell_type": "code",
      "source": [
        "pMHC_data"
      ],
      "metadata": {
        "id": "ZDXubVB5qvb0"
      },
      "execution_count": null,
      "outputs": []
    },
    {
      "cell_type": "markdown",
      "source": [
        "## 6. Hyperparameter tune with your features"
      ],
      "metadata": {
        "id": "piVdR-lKcR9-"
      }
    },
    {
      "cell_type": "code",
      "source": [],
      "metadata": {
        "id": "NI920K1EcJUy"
      },
      "execution_count": null,
      "outputs": []
    }
  ]
}