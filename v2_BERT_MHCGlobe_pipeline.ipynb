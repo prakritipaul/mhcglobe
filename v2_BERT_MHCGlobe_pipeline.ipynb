{
  "nbformat": 4,
  "nbformat_minor": 0,
  "metadata": {
    "colab": {
      "provenance": [],
      "machine_shape": "hm",
      "gpuType": "V100",
      "mount_file_id": "1A78sRf1IeDvjdqONHW4-suDtqyOqWtNQ",
      "authorship_tag": "ABX9TyMUgyurE4zaMkomugOWVR9b",
      "include_colab_link": true
    },
    "kernelspec": {
      "name": "python3",
      "display_name": "Python 3"
    },
    "language_info": {
      "name": "python"
    },
    "accelerator": "GPU"
  },
  "cells": [
    {
      "cell_type": "markdown",
      "metadata": {
        "id": "view-in-github",
        "colab_type": "text"
      },
      "source": [
        "<a href=\"https://colab.research.google.com/github/prakritipaul/mhcglobe/blob/main/v2_BERT_MHCGlobe_pipeline.ipynb\" target=\"_parent\"><img src=\"https://colab.research.google.com/assets/colab-badge.svg\" alt=\"Open In Colab\"/></a>"
      ]
    },
    {
      "cell_type": "markdown",
      "source": [
        "# Using BERT Features on pipeline in prakriti_MHCglobe_code_validation."
      ],
      "metadata": {
        "id": "ijhIn0B9jhZd"
      }
    },
    {
      "cell_type": "markdown",
      "source": [
        "1. Got BERT embeddings for 1000 training/es_allele/peptide_pseudosxns.\n",
        "2. Has new model that integrates new \"preprocessing\" dense layer.\n",
        "3. Has (incorrect) predictions.\n",
        "\n"
      ],
      "metadata": {
        "id": "D6OLJn8zjrgP"
      }
    },
    {
      "cell_type": "code",
      "source": [
        "!git clone https://github.com/prakritipaul/mhcglobe.git"
      ],
      "metadata": {
        "colab": {
          "base_uri": "https://localhost:8080/"
        },
        "id": "mEqgKmeAeRRs",
        "outputId": "d5c9e38f-f7e0-4d24-fb6d-fbece4138daa"
      },
      "execution_count": 1,
      "outputs": [
        {
          "output_type": "stream",
          "name": "stdout",
          "text": [
            "Cloning into 'mhcglobe'...\n",
            "remote: Enumerating objects: 750, done.\u001b[K\n",
            "remote: Counting objects: 100% (201/201), done.\u001b[K\n",
            "remote: Compressing objects: 100% (84/84), done.\u001b[K\n",
            "remote: Total 750 (delta 117), reused 196 (delta 115), pack-reused 549\u001b[K\n",
            "Receiving objects: 100% (750/750), 113.03 MiB | 32.69 MiB/s, done.\n",
            "Resolving deltas: 100% (415/415), done.\n",
            "Updating files: 100% (200/200), done.\n",
            "Downloading data/distB62_unique_pseudpsequences.pkl (250 MB)\n",
            "Error downloading object: data/distB62_unique_pseudpsequences.pkl (d151a08): Smudge error: Error downloading data/distB62_unique_pseudpsequences.pkl (d151a0800777499690d258210735bbe1bf8f627fedc59b579281582b6a03b3da): batch response: This repository is over its data quota. Account responsible for LFS bandwidth should purchase more data packs to restore access.\n",
            "\n",
            "Errors logged to /content/mhcglobe/.git/lfs/logs/20240403T201428.428532434.log\n",
            "Use `git lfs logs last` to view the log.\n",
            "error: external filter 'git-lfs filter-process' failed\n",
            "fatal: data/distB62_unique_pseudpsequences.pkl: smudge filter lfs failed\n",
            "warning: Clone succeeded, but checkout failed.\n",
            "You can inspect what was checked out with 'git status'\n",
            "and retry with 'git restore --source=HEAD :/'\n",
            "\n"
          ]
        }
      ]
    },
    {
      "cell_type": "code",
      "source": [
        "import numpy as np\n",
        "import pandas as pd\n",
        "import tensorflow as tf\n",
        "import os\n",
        "import joblib as jb\n",
        "\n",
        "import sys\n",
        "sys.path.append(\"/content/mhcglobe/src\")\n",
        "import mhcglobe\n",
        "import mhc_data\n",
        "import inequality_loss\n",
        "import train_functions as trainf\n",
        "import binding_affinity as ba\n",
        "import sequence_functions as seqf\n",
        "import prakriti_helper_functions as phf\n",
        "\n",
        "# Mount google drive\n",
        "from google.colab import drive\n",
        "drive.mount('/content/drive')"
      ],
      "metadata": {
        "id": "-8-TSRD9jpAr",
        "colab": {
          "base_uri": "https://localhost:8080/"
        },
        "outputId": "1225ba44-836b-44ee-fec8-0d0b6641e3ff"
      },
      "execution_count": 46,
      "outputs": [
        {
          "output_type": "stream",
          "name": "stdout",
          "text": [
            "Drive already mounted at /content/drive; to attempt to forcibly remount, call drive.mount(\"/content/drive\", force_remount=True).\n"
          ]
        }
      ]
    },
    {
      "cell_type": "markdown",
      "source": [
        "### Get data\n",
        "Contains both BA+EL, human and non-human"
      ],
      "metadata": {
        "id": "RJNkL0SGeH3S"
      }
    },
    {
      "cell_type": "code",
      "source": [
        "# 729,538/1,229,838\n",
        "pMHC = mhc_data.pMHC_Data(only_EL=False, drop_duplicate_records=True)\n",
        "pMHC_data = pMHC.data"
      ],
      "metadata": {
        "id": "9YnyEykhuU1X"
      },
      "execution_count": 80,
      "outputs": []
    },
    {
      "cell_type": "markdown",
      "source": [
        "#### Randomly pick 100 HLA-peptide peptide + Remove them from training data\n",
        "These will be the test set, and is the same number of examples as in Eric's example df.   "
      ],
      "metadata": {
        "id": "Y2MFj9AHt4fV"
      }
    },
    {
      "cell_type": "code",
      "source": [
        "# 678024\n",
        "# Note: ba = 89529 (13%), sa/ma = 588495 (87%)\n",
        "human_pMHC_data = pMHC_data[pMHC_data[\"allele\"].str.contains(\"HLA\")]\n",
        "# 12% ba's\n",
        "human_pMHC_data_test = human_pMHC_data.sample(n=100, random_state=428364)\n",
        "\n",
        "# Seeing what happens if I only have ='s\n",
        "# human_pMHC_data_test = human_pMHC_data.iloc[:100]\n",
        "\n",
        "# 729438\n",
        "pMHC_data_train = pMHC_data[~pMHC_data.index.isin(human_pMHC_data_test.index)]"
      ],
      "metadata": {
        "id": "Jhur8WJtucMK"
      },
      "execution_count": 81,
      "outputs": []
    },
    {
      "cell_type": "markdown",
      "source": [
        "#### Reset Indices to prevent any issues downstream"
      ],
      "metadata": {
        "id": "jGjGx1-b3shD"
      }
    },
    {
      "cell_type": "code",
      "source": [
        "pMHC_data_train = pMHC_data_train.reset_index(drop=True)\n",
        "human_pMHC_data_test = human_pMHC_data_test.reset_index(drop=True)"
      ],
      "metadata": {
        "id": "Wss6_xgY3yCM"
      },
      "execution_count": 82,
      "outputs": []
    },
    {
      "cell_type": "code",
      "source": [
        "pMHC_data_train.head(10)"
      ],
      "metadata": {
        "id": "gBxji-G3W_nC"
      },
      "execution_count": null,
      "outputs": []
    },
    {
      "cell_type": "code",
      "source": [
        "human_pMHC_data_test.head(10)"
      ],
      "metadata": {
        "id": "iC-PwUN7XYcy",
        "colab": {
          "base_uri": "https://localhost:8080/",
          "height": 363
        },
        "outputId": "8165118f-4d47-4894-c19f-e3362add4e9d"
      },
      "execution_count": 83,
      "outputs": [
        {
          "output_type": "execute_result",
          "data": {
            "text/plain": [
              "        allele       dataset measurement_inequality measurement_type  \\\n",
              "0  HLA-A*02:06          IEDB                      <               SA   \n",
              "1  HLA-B*27:05          IEDB                      <               SA   \n",
              "2  HLA-A*02:12       S3_Only                      >               BA   \n",
              "3  HLA-B*07:02          IEDB                      <               SA   \n",
              "4  HLA-B*27:05       S3_Only                      <               SA   \n",
              "5  HLA-C*12:02          IEDB                      <               SA   \n",
              "6  HLA-B*35:03  MHCFlury2_S1                      <               MA   \n",
              "7  HLA-B*49:01          IEDB                      <               SA   \n",
              "8  HLA-A*36:01          IEDB                      <               SA   \n",
              "9  HLA-B*35:07          IEDB                      <               SA   \n",
              "\n",
              "   measurement_value       peptide   Gene  is_ABC  is_human  \n",
              "0              100.0     RVVDYLTKL  HLA-A    True      True  \n",
              "1              100.0     TRYQTFVNF  HLA-B    True      True  \n",
              "2            20000.0     AARHKHQVM  HLA-A    True      True  \n",
              "3              100.0    IPRSILMTTF  HLA-B    True      True  \n",
              "4              100.0     SRVMDFFRR  HLA-B    True      True  \n",
              "5              100.0     STDPRPASY  HLA-C    True      True  \n",
              "6              100.0     SPHGIASVL  HLA-B    True      True  \n",
              "7              100.0     IEESGEHII  HLA-B    True      True  \n",
              "8              100.0  SLAMEMVLTGDR  HLA-A    True      True  \n",
              "9              100.0   MPFDFRRFDIY  HLA-B    True      True  "
            ],
            "text/html": [
              "\n",
              "  <div id=\"df-8a9e62c0-b342-48b6-af4d-af755e66e7e0\" class=\"colab-df-container\">\n",
              "    <div>\n",
              "<style scoped>\n",
              "    .dataframe tbody tr th:only-of-type {\n",
              "        vertical-align: middle;\n",
              "    }\n",
              "\n",
              "    .dataframe tbody tr th {\n",
              "        vertical-align: top;\n",
              "    }\n",
              "\n",
              "    .dataframe thead th {\n",
              "        text-align: right;\n",
              "    }\n",
              "</style>\n",
              "<table border=\"1\" class=\"dataframe\">\n",
              "  <thead>\n",
              "    <tr style=\"text-align: right;\">\n",
              "      <th></th>\n",
              "      <th>allele</th>\n",
              "      <th>dataset</th>\n",
              "      <th>measurement_inequality</th>\n",
              "      <th>measurement_type</th>\n",
              "      <th>measurement_value</th>\n",
              "      <th>peptide</th>\n",
              "      <th>Gene</th>\n",
              "      <th>is_ABC</th>\n",
              "      <th>is_human</th>\n",
              "    </tr>\n",
              "  </thead>\n",
              "  <tbody>\n",
              "    <tr>\n",
              "      <th>0</th>\n",
              "      <td>HLA-A*02:06</td>\n",
              "      <td>IEDB</td>\n",
              "      <td>&lt;</td>\n",
              "      <td>SA</td>\n",
              "      <td>100.0</td>\n",
              "      <td>RVVDYLTKL</td>\n",
              "      <td>HLA-A</td>\n",
              "      <td>True</td>\n",
              "      <td>True</td>\n",
              "    </tr>\n",
              "    <tr>\n",
              "      <th>1</th>\n",
              "      <td>HLA-B*27:05</td>\n",
              "      <td>IEDB</td>\n",
              "      <td>&lt;</td>\n",
              "      <td>SA</td>\n",
              "      <td>100.0</td>\n",
              "      <td>TRYQTFVNF</td>\n",
              "      <td>HLA-B</td>\n",
              "      <td>True</td>\n",
              "      <td>True</td>\n",
              "    </tr>\n",
              "    <tr>\n",
              "      <th>2</th>\n",
              "      <td>HLA-A*02:12</td>\n",
              "      <td>S3_Only</td>\n",
              "      <td>&gt;</td>\n",
              "      <td>BA</td>\n",
              "      <td>20000.0</td>\n",
              "      <td>AARHKHQVM</td>\n",
              "      <td>HLA-A</td>\n",
              "      <td>True</td>\n",
              "      <td>True</td>\n",
              "    </tr>\n",
              "    <tr>\n",
              "      <th>3</th>\n",
              "      <td>HLA-B*07:02</td>\n",
              "      <td>IEDB</td>\n",
              "      <td>&lt;</td>\n",
              "      <td>SA</td>\n",
              "      <td>100.0</td>\n",
              "      <td>IPRSILMTTF</td>\n",
              "      <td>HLA-B</td>\n",
              "      <td>True</td>\n",
              "      <td>True</td>\n",
              "    </tr>\n",
              "    <tr>\n",
              "      <th>4</th>\n",
              "      <td>HLA-B*27:05</td>\n",
              "      <td>S3_Only</td>\n",
              "      <td>&lt;</td>\n",
              "      <td>SA</td>\n",
              "      <td>100.0</td>\n",
              "      <td>SRVMDFFRR</td>\n",
              "      <td>HLA-B</td>\n",
              "      <td>True</td>\n",
              "      <td>True</td>\n",
              "    </tr>\n",
              "    <tr>\n",
              "      <th>5</th>\n",
              "      <td>HLA-C*12:02</td>\n",
              "      <td>IEDB</td>\n",
              "      <td>&lt;</td>\n",
              "      <td>SA</td>\n",
              "      <td>100.0</td>\n",
              "      <td>STDPRPASY</td>\n",
              "      <td>HLA-C</td>\n",
              "      <td>True</td>\n",
              "      <td>True</td>\n",
              "    </tr>\n",
              "    <tr>\n",
              "      <th>6</th>\n",
              "      <td>HLA-B*35:03</td>\n",
              "      <td>MHCFlury2_S1</td>\n",
              "      <td>&lt;</td>\n",
              "      <td>MA</td>\n",
              "      <td>100.0</td>\n",
              "      <td>SPHGIASVL</td>\n",
              "      <td>HLA-B</td>\n",
              "      <td>True</td>\n",
              "      <td>True</td>\n",
              "    </tr>\n",
              "    <tr>\n",
              "      <th>7</th>\n",
              "      <td>HLA-B*49:01</td>\n",
              "      <td>IEDB</td>\n",
              "      <td>&lt;</td>\n",
              "      <td>SA</td>\n",
              "      <td>100.0</td>\n",
              "      <td>IEESGEHII</td>\n",
              "      <td>HLA-B</td>\n",
              "      <td>True</td>\n",
              "      <td>True</td>\n",
              "    </tr>\n",
              "    <tr>\n",
              "      <th>8</th>\n",
              "      <td>HLA-A*36:01</td>\n",
              "      <td>IEDB</td>\n",
              "      <td>&lt;</td>\n",
              "      <td>SA</td>\n",
              "      <td>100.0</td>\n",
              "      <td>SLAMEMVLTGDR</td>\n",
              "      <td>HLA-A</td>\n",
              "      <td>True</td>\n",
              "      <td>True</td>\n",
              "    </tr>\n",
              "    <tr>\n",
              "      <th>9</th>\n",
              "      <td>HLA-B*35:07</td>\n",
              "      <td>IEDB</td>\n",
              "      <td>&lt;</td>\n",
              "      <td>SA</td>\n",
              "      <td>100.0</td>\n",
              "      <td>MPFDFRRFDIY</td>\n",
              "      <td>HLA-B</td>\n",
              "      <td>True</td>\n",
              "      <td>True</td>\n",
              "    </tr>\n",
              "  </tbody>\n",
              "</table>\n",
              "</div>\n",
              "    <div class=\"colab-df-buttons\">\n",
              "\n",
              "  <div class=\"colab-df-container\">\n",
              "    <button class=\"colab-df-convert\" onclick=\"convertToInteractive('df-8a9e62c0-b342-48b6-af4d-af755e66e7e0')\"\n",
              "            title=\"Convert this dataframe to an interactive table.\"\n",
              "            style=\"display:none;\">\n",
              "\n",
              "  <svg xmlns=\"http://www.w3.org/2000/svg\" height=\"24px\" viewBox=\"0 -960 960 960\">\n",
              "    <path d=\"M120-120v-720h720v720H120Zm60-500h600v-160H180v160Zm220 220h160v-160H400v160Zm0 220h160v-160H400v160ZM180-400h160v-160H180v160Zm440 0h160v-160H620v160ZM180-180h160v-160H180v160Zm440 0h160v-160H620v160Z\"/>\n",
              "  </svg>\n",
              "    </button>\n",
              "\n",
              "  <style>\n",
              "    .colab-df-container {\n",
              "      display:flex;\n",
              "      gap: 12px;\n",
              "    }\n",
              "\n",
              "    .colab-df-convert {\n",
              "      background-color: #E8F0FE;\n",
              "      border: none;\n",
              "      border-radius: 50%;\n",
              "      cursor: pointer;\n",
              "      display: none;\n",
              "      fill: #1967D2;\n",
              "      height: 32px;\n",
              "      padding: 0 0 0 0;\n",
              "      width: 32px;\n",
              "    }\n",
              "\n",
              "    .colab-df-convert:hover {\n",
              "      background-color: #E2EBFA;\n",
              "      box-shadow: 0px 1px 2px rgba(60, 64, 67, 0.3), 0px 1px 3px 1px rgba(60, 64, 67, 0.15);\n",
              "      fill: #174EA6;\n",
              "    }\n",
              "\n",
              "    .colab-df-buttons div {\n",
              "      margin-bottom: 4px;\n",
              "    }\n",
              "\n",
              "    [theme=dark] .colab-df-convert {\n",
              "      background-color: #3B4455;\n",
              "      fill: #D2E3FC;\n",
              "    }\n",
              "\n",
              "    [theme=dark] .colab-df-convert:hover {\n",
              "      background-color: #434B5C;\n",
              "      box-shadow: 0px 1px 3px 1px rgba(0, 0, 0, 0.15);\n",
              "      filter: drop-shadow(0px 1px 2px rgba(0, 0, 0, 0.3));\n",
              "      fill: #FFFFFF;\n",
              "    }\n",
              "  </style>\n",
              "\n",
              "    <script>\n",
              "      const buttonEl =\n",
              "        document.querySelector('#df-8a9e62c0-b342-48b6-af4d-af755e66e7e0 button.colab-df-convert');\n",
              "      buttonEl.style.display =\n",
              "        google.colab.kernel.accessAllowed ? 'block' : 'none';\n",
              "\n",
              "      async function convertToInteractive(key) {\n",
              "        const element = document.querySelector('#df-8a9e62c0-b342-48b6-af4d-af755e66e7e0');\n",
              "        const dataTable =\n",
              "          await google.colab.kernel.invokeFunction('convertToInteractive',\n",
              "                                                    [key], {});\n",
              "        if (!dataTable) return;\n",
              "\n",
              "        const docLinkHtml = 'Like what you see? Visit the ' +\n",
              "          '<a target=\"_blank\" href=https://colab.research.google.com/notebooks/data_table.ipynb>data table notebook</a>'\n",
              "          + ' to learn more about interactive tables.';\n",
              "        element.innerHTML = '';\n",
              "        dataTable['output_type'] = 'display_data';\n",
              "        await google.colab.output.renderOutput(dataTable, element);\n",
              "        const docLink = document.createElement('div');\n",
              "        docLink.innerHTML = docLinkHtml;\n",
              "        element.appendChild(docLink);\n",
              "      }\n",
              "    </script>\n",
              "  </div>\n",
              "\n",
              "\n",
              "<div id=\"df-8d738ca4-f2ad-4def-9ab5-813b18a82c6e\">\n",
              "  <button class=\"colab-df-quickchart\" onclick=\"quickchart('df-8d738ca4-f2ad-4def-9ab5-813b18a82c6e')\"\n",
              "            title=\"Suggest charts\"\n",
              "            style=\"display:none;\">\n",
              "\n",
              "<svg xmlns=\"http://www.w3.org/2000/svg\" height=\"24px\"viewBox=\"0 0 24 24\"\n",
              "     width=\"24px\">\n",
              "    <g>\n",
              "        <path d=\"M19 3H5c-1.1 0-2 .9-2 2v14c0 1.1.9 2 2 2h14c1.1 0 2-.9 2-2V5c0-1.1-.9-2-2-2zM9 17H7v-7h2v7zm4 0h-2V7h2v10zm4 0h-2v-4h2v4z\"/>\n",
              "    </g>\n",
              "</svg>\n",
              "  </button>\n",
              "\n",
              "<style>\n",
              "  .colab-df-quickchart {\n",
              "      --bg-color: #E8F0FE;\n",
              "      --fill-color: #1967D2;\n",
              "      --hover-bg-color: #E2EBFA;\n",
              "      --hover-fill-color: #174EA6;\n",
              "      --disabled-fill-color: #AAA;\n",
              "      --disabled-bg-color: #DDD;\n",
              "  }\n",
              "\n",
              "  [theme=dark] .colab-df-quickchart {\n",
              "      --bg-color: #3B4455;\n",
              "      --fill-color: #D2E3FC;\n",
              "      --hover-bg-color: #434B5C;\n",
              "      --hover-fill-color: #FFFFFF;\n",
              "      --disabled-bg-color: #3B4455;\n",
              "      --disabled-fill-color: #666;\n",
              "  }\n",
              "\n",
              "  .colab-df-quickchart {\n",
              "    background-color: var(--bg-color);\n",
              "    border: none;\n",
              "    border-radius: 50%;\n",
              "    cursor: pointer;\n",
              "    display: none;\n",
              "    fill: var(--fill-color);\n",
              "    height: 32px;\n",
              "    padding: 0;\n",
              "    width: 32px;\n",
              "  }\n",
              "\n",
              "  .colab-df-quickchart:hover {\n",
              "    background-color: var(--hover-bg-color);\n",
              "    box-shadow: 0 1px 2px rgba(60, 64, 67, 0.3), 0 1px 3px 1px rgba(60, 64, 67, 0.15);\n",
              "    fill: var(--button-hover-fill-color);\n",
              "  }\n",
              "\n",
              "  .colab-df-quickchart-complete:disabled,\n",
              "  .colab-df-quickchart-complete:disabled:hover {\n",
              "    background-color: var(--disabled-bg-color);\n",
              "    fill: var(--disabled-fill-color);\n",
              "    box-shadow: none;\n",
              "  }\n",
              "\n",
              "  .colab-df-spinner {\n",
              "    border: 2px solid var(--fill-color);\n",
              "    border-color: transparent;\n",
              "    border-bottom-color: var(--fill-color);\n",
              "    animation:\n",
              "      spin 1s steps(1) infinite;\n",
              "  }\n",
              "\n",
              "  @keyframes spin {\n",
              "    0% {\n",
              "      border-color: transparent;\n",
              "      border-bottom-color: var(--fill-color);\n",
              "      border-left-color: var(--fill-color);\n",
              "    }\n",
              "    20% {\n",
              "      border-color: transparent;\n",
              "      border-left-color: var(--fill-color);\n",
              "      border-top-color: var(--fill-color);\n",
              "    }\n",
              "    30% {\n",
              "      border-color: transparent;\n",
              "      border-left-color: var(--fill-color);\n",
              "      border-top-color: var(--fill-color);\n",
              "      border-right-color: var(--fill-color);\n",
              "    }\n",
              "    40% {\n",
              "      border-color: transparent;\n",
              "      border-right-color: var(--fill-color);\n",
              "      border-top-color: var(--fill-color);\n",
              "    }\n",
              "    60% {\n",
              "      border-color: transparent;\n",
              "      border-right-color: var(--fill-color);\n",
              "    }\n",
              "    80% {\n",
              "      border-color: transparent;\n",
              "      border-right-color: var(--fill-color);\n",
              "      border-bottom-color: var(--fill-color);\n",
              "    }\n",
              "    90% {\n",
              "      border-color: transparent;\n",
              "      border-bottom-color: var(--fill-color);\n",
              "    }\n",
              "  }\n",
              "</style>\n",
              "\n",
              "  <script>\n",
              "    async function quickchart(key) {\n",
              "      const quickchartButtonEl =\n",
              "        document.querySelector('#' + key + ' button');\n",
              "      quickchartButtonEl.disabled = true;  // To prevent multiple clicks.\n",
              "      quickchartButtonEl.classList.add('colab-df-spinner');\n",
              "      try {\n",
              "        const charts = await google.colab.kernel.invokeFunction(\n",
              "            'suggestCharts', [key], {});\n",
              "      } catch (error) {\n",
              "        console.error('Error during call to suggestCharts:', error);\n",
              "      }\n",
              "      quickchartButtonEl.classList.remove('colab-df-spinner');\n",
              "      quickchartButtonEl.classList.add('colab-df-quickchart-complete');\n",
              "    }\n",
              "    (() => {\n",
              "      let quickchartButtonEl =\n",
              "        document.querySelector('#df-8d738ca4-f2ad-4def-9ab5-813b18a82c6e button');\n",
              "      quickchartButtonEl.style.display =\n",
              "        google.colab.kernel.accessAllowed ? 'block' : 'none';\n",
              "    })();\n",
              "  </script>\n",
              "</div>\n",
              "\n",
              "    </div>\n",
              "  </div>\n"
            ],
            "application/vnd.google.colaboratory.intrinsic+json": {
              "type": "dataframe",
              "variable_name": "human_pMHC_data_test",
              "summary": "{\n  \"name\": \"human_pMHC_data_test\",\n  \"rows\": 100,\n  \"fields\": [\n    {\n      \"column\": \"allele\",\n      \"properties\": {\n        \"dtype\": \"string\",\n        \"num_unique_values\": 60,\n        \"samples\": [\n          \"HLA-A*02:06\",\n          \"HLA-B*35:03\",\n          \"HLA-A*33:01\"\n        ],\n        \"semantic_type\": \"\",\n        \"description\": \"\"\n      }\n    },\n    {\n      \"column\": \"dataset\",\n      \"properties\": {\n        \"dtype\": \"category\",\n        \"num_unique_values\": 3,\n        \"samples\": [\n          \"IEDB\",\n          \"S3_Only\",\n          \"MHCFlury2_S1\"\n        ],\n        \"semantic_type\": \"\",\n        \"description\": \"\"\n      }\n    },\n    {\n      \"column\": \"measurement_inequality\",\n      \"properties\": {\n        \"dtype\": \"category\",\n        \"num_unique_values\": 3,\n        \"samples\": [\n          \"<\",\n          \">\",\n          \"=\"\n        ],\n        \"semantic_type\": \"\",\n        \"description\": \"\"\n      }\n    },\n    {\n      \"column\": \"measurement_type\",\n      \"properties\": {\n        \"dtype\": \"category\",\n        \"num_unique_values\": 3,\n        \"samples\": [\n          \"SA\",\n          \"BA\",\n          \"MA\"\n        ],\n        \"semantic_type\": \"\",\n        \"description\": \"\"\n      }\n    },\n    {\n      \"column\": \"measurement_value\",\n      \"properties\": {\n        \"dtype\": \"number\",\n        \"std\": 5145.95966526562,\n        \"min\": 1.0,\n        \"max\": 20000.0,\n        \"num_unique_values\": 19,\n        \"samples\": [\n          100.0,\n          5000.0,\n          500.0\n        ],\n        \"semantic_type\": \"\",\n        \"description\": \"\"\n      }\n    },\n    {\n      \"column\": \"peptide\",\n      \"properties\": {\n        \"dtype\": \"string\",\n        \"num_unique_values\": 100,\n        \"samples\": [\n          \"LFHPQIVHEELQ\",\n          \"EEMNLPGRW\",\n          \"SLYLPAMEK\"\n        ],\n        \"semantic_type\": \"\",\n        \"description\": \"\"\n      }\n    },\n    {\n      \"column\": \"Gene\",\n      \"properties\": {\n        \"dtype\": \"category\",\n        \"num_unique_values\": 4,\n        \"samples\": [\n          \"HLA-B\",\n          \"HLA-G\",\n          \"HLA-A\"\n        ],\n        \"semantic_type\": \"\",\n        \"description\": \"\"\n      }\n    },\n    {\n      \"column\": \"is_ABC\",\n      \"properties\": {\n        \"dtype\": \"boolean\",\n        \"num_unique_values\": 2,\n        \"samples\": [\n          false,\n          true\n        ],\n        \"semantic_type\": \"\",\n        \"description\": \"\"\n      }\n    },\n    {\n      \"column\": \"is_human\",\n      \"properties\": {\n        \"dtype\": \"boolean\",\n        \"num_unique_values\": 1,\n        \"samples\": [\n          true\n        ],\n        \"semantic_type\": \"\",\n        \"description\": \"\"\n      }\n    }\n  ]\n}"
            }
          },
          "metadata": {},
          "execution_count": 83
        }
      ]
    },
    {
      "cell_type": "markdown",
      "source": [
        "#### Get 4 relevant columns"
      ],
      "metadata": {
        "id": "WUW7GXNoesQK"
      }
    },
    {
      "cell_type": "code",
      "source": [
        "pMHC_data_train = pMHC_data_train[[\"allele\", \"peptide\", \"measurement_inequality\", \"measurement_value\"]]\n",
        "human_pMHC_data_test = human_pMHC_data_test[[\"allele\", \"peptide\", \"measurement_inequality\", \"measurement_value\"]]"
      ],
      "metadata": {
        "id": "jjJBZwiFeODs"
      },
      "execution_count": 52,
      "outputs": []
    },
    {
      "cell_type": "code",
      "source": [
        "pMHC_data_train.head(10)"
      ],
      "metadata": {
        "id": "XPQMiFIvXxdZ"
      },
      "execution_count": null,
      "outputs": []
    },
    {
      "cell_type": "code",
      "source": [
        "human_pMHC_data_test.head(10)"
      ],
      "metadata": {
        "id": "5qMXKD8eb5vn"
      },
      "execution_count": null,
      "outputs": []
    },
    {
      "cell_type": "markdown",
      "source": [
        "### Balance the dataset to get X_tr, Y_tr, X_es, Y_es!\n"
      ],
      "metadata": {
        "id": "rYDrXu2zibDc"
      }
    },
    {
      "cell_type": "code",
      "source": [
        "# Returns a data frame with cols\n",
        "# test (is it es or not), allele, peptide, measurement_inequality, measurement_value\n",
        "train, es = trainf.BalanceSplitData().get_train_val(pMHC_data_train)\n",
        "\n",
        "# reset indices to prevent downstream issues\n",
        "# 583650\n",
        "train = train.reset_index(drop=True)\n",
        "# 145788\n",
        "es = es.reset_index(drop=True)"
      ],
      "metadata": {
        "id": "GUwGrT4Li3ff"
      },
      "execution_count": 56,
      "outputs": []
    },
    {
      "cell_type": "markdown",
      "source": [
        "### REMOVE THIS LATER: just a test!"
      ],
      "metadata": {
        "id": "NFWicsU7Snlz"
      }
    },
    {
      "cell_type": "code",
      "source": [
        "train, es = train.iloc[:1000], es.iloc[:1000]"
      ],
      "metadata": {
        "id": "s6ra5bLOSpes"
      },
      "execution_count": 57,
      "outputs": []
    },
    {
      "cell_type": "code",
      "source": [
        "train"
      ],
      "metadata": {
        "id": "wBp2JULoSxe3"
      },
      "execution_count": null,
      "outputs": []
    },
    {
      "cell_type": "code",
      "source": [
        "es"
      ],
      "metadata": {
        "id": "bofosDxHg47i"
      },
      "execution_count": null,
      "outputs": []
    },
    {
      "cell_type": "markdown",
      "source": [
        "### Get MHC pseudosxns (X1_train, X1_es)- should be a function\n",
        "Returns a list."
      ],
      "metadata": {
        "id": "hq5NVo5ObhKn"
      }
    },
    {
      "cell_type": "code",
      "source": [
        "def get_allele_pseudoseqs(train_or_es, mhc_data):\n",
        "  \"\"\"\n",
        "    Gets pseudosquences for MHC alleles present in a train or es dataframe.\n",
        "\n",
        "    Args:\n",
        "      train_or_es: Data frame with cols\n",
        "        test (is it es or not), allele, peptide, measurement_inequality, measurement_value\n",
        "\n",
        "      mhc data object: used to make allele2seq dict.\n",
        "        e.g. pMHC = mhc_data.pMHC_Data\n",
        "        {'HLA-A*02:560': 'YFAMYGEKVAHTHVDTLYVRYHYYTWAVLAYEWY'...}\n",
        "\n",
        "    Returns:\n",
        "      allele_pseudoseqs: list of shape (n_alleles, 34)\n",
        "\"\n",
        "    Example:\n",
        "      'DLA-88*508:01', 'Mamu-B*08:01' -> 'YYATYGEKVETVYVDTLYITYRDYTWAVWNYTWY',\n",
        "                                         'YSSEYEERAGHTDADTLYLTYHYYTWAEVAYTWY'\n",
        "  \"\"\"\n",
        "  mhc_alleles = train_or_es[\"allele\"]\n",
        "  allele2seq_dict = mhc_data.allele2seq\n",
        "\n",
        "  allele_pseudoseqs = [str(allele2seq_dict[a]) for a in mhc_alleles]\n",
        "  return allele_pseudoseqs"
      ],
      "metadata": {
        "id": "N34ESJXgbjoM"
      },
      "execution_count": 61,
      "outputs": []
    },
    {
      "cell_type": "code",
      "source": [
        "# X1_train, X1_es\n",
        "training_allele_pseudoseqs = get_allele_pseudoseqs(train, pMHC)\n",
        "es_allele_pseudoseqs = get_allele_pseudoseqs(es, pMHC)"
      ],
      "metadata": {
        "id": "8DfacVzoRxwG"
      },
      "execution_count": 62,
      "outputs": []
    },
    {
      "cell_type": "markdown",
      "source": [
        "### Get MHCFlurry representations of peptides (X2_train, X2_es)\n",
        "Returns a list.\n",
        "\n",
        "Basically change \"seq_to_15mer\" function to just get the amino acids of the representation."
      ],
      "metadata": {
        "id": "a8Tt2cGHcTow"
      }
    },
    {
      "cell_type": "code",
      "source": [
        "def get_mhcflurry_representation(peptide):\n",
        "  \"\"\"\n",
        "    Given a peptide sequence, return the mhcflurry representation.\n",
        "\n",
        "    Examples:\n",
        "      Example 1: ARDV (4) -> ARDV-X7-ARDV\n",
        "\t    Example 2: ARDVA (5) -> ARDV-X7-RDVA\n",
        "      Example 3: ARDVAA (6) -> ARDV-X7-DVAA\n",
        "        (X7 padding is true until len(peptide) = 8)\n",
        "      Example 4: ARDVAAAAA (9) -> ARDV-XXX-A-XXX-AAAA\n",
        "      Example 5: ARDVAAAAAA (10) -> ARDV-XXX-AA-XX-AAAA\n",
        "  \"\"\"\n",
        "  middle_AAs = peptide[4:-4]\n",
        "  num_X = 15-(len(middle_AAs)+8)\n",
        "\n",
        "  if num_X%2 == 0:\n",
        "    pad_len = num_X//2\n",
        "    middle_AAs_with_pad = \"X\"*pad_len + middle_AAs + \"X\"*pad_len\n",
        "\n",
        "  else:\n",
        "    pad_len_left = num_X//2 + 1\n",
        "    pad_len_right = pad_len_left - 1\n",
        "    middle_AAs_with_pad = \"X\"*pad_len_left + middle_AAs + \"X\"*pad_len_right\n",
        "\n",
        "  mhcflurry_representation = peptide[:4] + middle_AAs_with_pad + peptide[-4:]\n",
        "  return mhcflurry_representation"
      ],
      "metadata": {
        "id": "zLXzULfFRf6E"
      },
      "execution_count": 63,
      "outputs": []
    },
    {
      "cell_type": "code",
      "source": [
        "def get_peptide_pseudoseqs(train_or_es):\n",
        "  \"\"\"\n",
        "    Same function as \"get_allele_pseudoseqs\", but for peptides.\n",
        "\n",
        "    Returns:\n",
        "      peptide_pseudoseqs:\n",
        "        list of shape (n_peptides, 15)\n",
        "  \"\"\"\n",
        "  peptides = train_or_es[\"peptide\"]\n",
        "  peptide_pseudoseqs = [get_mhcflurry_representation(p) for p in peptides]\n",
        "  return peptide_pseudoseqs"
      ],
      "metadata": {
        "id": "WPHIAzJzcXU3"
      },
      "execution_count": 64,
      "outputs": []
    },
    {
      "cell_type": "code",
      "source": [
        "# X2_train, X2_es\n",
        "training_peptide_pseudoseqs = get_peptide_pseudoseqs(train)\n",
        "es_peptide_pseudoseqs = get_peptide_pseudoseqs(es)"
      ],
      "metadata": {
        "id": "0PpSXJyDR0jG"
      },
      "execution_count": 65,
      "outputs": []
    },
    {
      "cell_type": "markdown",
      "source": [
        "### Get BERT representation of both MHC and peptides (X1_train', X1_es', X2_train', X2_es')\n",
        "https://github.com/facebookresearch/esm/issues/348"
      ],
      "metadata": {
        "id": "0RoeuL7-c6-C"
      }
    },
    {
      "cell_type": "markdown",
      "source": [
        "### Load the model"
      ],
      "metadata": {
        "id": "-9qgIoyl2B0a"
      }
    },
    {
      "cell_type": "markdown",
      "source": [
        "### Get BERT features- try for MHC train\n",
        "FUTURE IMPROVEMENT:\n",
        "Add a functionality where the attention mask is 0 wherever there's an X in the AA sxn (peptide)."
      ],
      "metadata": {
        "id": "sMoH6lG51_9m"
      }
    },
    {
      "cell_type": "code",
      "source": [
        "def get_BERT_embeddings(aa_sxns, tokenizer, model, return_tensors):\n",
        "  \"\"\"\n",
        "    Gets features of alleles or peptides from a BERT-like model, like ESM2.\n",
        "\n",
        "    Args:\n",
        "      aa_sxns: list of amino acid sequences.\n",
        "        e.g. training/es_allele_pseudoseqs, training_peptide/es_pseudoseqs\n",
        "\n",
        "      tokenizer: tokenizer for the model from huggingface.\n",
        "      model: model for the model from huggingface.\n",
        "      return_tensors: \"tf\" or \"pt\"\n",
        "\n",
        "    Returns:\n",
        "      PyTorch/Tensorflow tensors of shape n_alleles/peptides x 34/15 x n_embedding_dims\n",
        "        e.g. n_embedding_dims = 320 for ESM2_t6_8M_UR50D.\n",
        "        Note: embeddings are from the last hidden state of the model.\n",
        "\n",
        "    Example:\n",
        "      tokenizer = EsmTokenizer.from_pretrained(\"facebook/esm2_t6_8M_UR50D\")\n",
        "      model = TFEsmModel.from_pretrained(\"facebook/esm2_t6_8M_UR50D\")\n",
        "      get_BERT_embeddings(training_allele_pseudoseqs, tokenizer, model, \"tf\")\n",
        "  \"\"\"\n",
        "  inputs = tokenizer(aa_sxns, return_tensors=return_tensors, padding=False, truncation=False)\n",
        "  input_ids = inputs[\"input_ids\"]\n",
        "  attention_mask = inputs[\"attention_mask\"]\n",
        "  # Update them to not have <cls> and <eos> tokens.\n",
        "  updated_input_ids = input_ids[:, 1:-1]\n",
        "  updated_attention_mask = attention_mask[:, 1:-1]\n",
        "  updated_inputs = {\"input_ids\": updated_input_ids, \"attention_mask\": updated_attention_mask}\n",
        "  # Get outputs\n",
        "  outputs = model(**updated_inputs)\n",
        "  # Get last_hidden_states\n",
        "  BERT_embeddings = outputs.last_hidden_state\n",
        "  return BERT_embeddings"
      ],
      "metadata": {
        "id": "yB5oprILqCaI"
      },
      "execution_count": 66,
      "outputs": []
    },
    {
      "cell_type": "markdown",
      "source": [
        "#### TF version"
      ],
      "metadata": {
        "id": "0L2R5pSDY12F"
      }
    },
    {
      "cell_type": "code",
      "source": [
        "# from transformers import EsmTokenizer, EsmModel\n",
        "from transformers import EsmTokenizer, TFEsmModel\n",
        "import torch\n",
        "\n",
        "tokenizer = EsmTokenizer.from_pretrained(\"facebook/esm2_t6_8M_UR50D\")\n",
        "# model = EsmModel.from_pretrained(\"facebook/esm2_t6_8M_UR50D\")\n",
        "model = TFEsmModel.from_pretrained(\"facebook/esm2_t6_8M_UR50D\")"
      ],
      "metadata": {
        "colab": {
          "base_uri": "https://localhost:8080/"
        },
        "id": "NMC9jUncYz6k",
        "outputId": "2d0ccf6f-d830-41c8-8894-63fb95fb08a3"
      },
      "execution_count": 67,
      "outputs": [
        {
          "output_type": "stream",
          "name": "stderr",
          "text": [
            "Some weights of the PyTorch model were not used when initializing the TF 2.0 model TFEsmModel: ['lm_head.layer_norm.weight', 'lm_head.dense.weight', 'lm_head.bias', 'esm.embeddings.position_ids', 'lm_head.layer_norm.bias', 'lm_head.dense.bias']\n",
            "- This IS expected if you are initializing TFEsmModel from a PyTorch model trained on another task or with another architecture (e.g. initializing a TFBertForSequenceClassification model from a BertForPreTraining model).\n",
            "- This IS NOT expected if you are initializing TFEsmModel from a PyTorch model that you expect to be exactly identical (e.g. initializing a TFBertForSequenceClassification model from a BertForSequenceClassification model).\n",
            "Some weights or buffers of the TF 2.0 model TFEsmModel were not initialized from the PyTorch model and are newly initialized: ['esm.pooler.dense.weight', 'esm.pooler.dense.bias']\n",
            "You should probably TRAIN this model on a down-stream task to be able to use it for predictions and inference.\n"
          ]
        }
      ]
    },
    {
      "cell_type": "code",
      "source": [
        "# for test: 5, 15, 320\n",
        "training_allele_BERT_embeddings = get_BERT_embeddings(training_allele_pseudoseqs, tokenizer, model, \"tf\")\n",
        "# for test: 5, 15, 320\n",
        "training_peptide_BERT_embeddings = get_BERT_embeddings(training_peptide_pseudoseqs, tokenizer, model, \"tf\")"
      ],
      "metadata": {
        "id": "Np2fUjAB5H40"
      },
      "execution_count": 68,
      "outputs": []
    },
    {
      "cell_type": "code",
      "source": [
        "es_allele_BERT_embeddings = get_BERT_embeddings(es_allele_pseudoseqs, tokenizer, model, \"tf\")\n",
        "es_peptide_BERT_embeddings = get_BERT_embeddings(es_peptide_pseudoseqs, tokenizer, model, \"tf\")"
      ],
      "metadata": {
        "id": "YWgraW4qj9eq"
      },
      "execution_count": 69,
      "outputs": []
    },
    {
      "cell_type": "markdown",
      "source": [
        "#### PT version"
      ],
      "metadata": {
        "id": "8icAGuVaY4w8"
      }
    },
    {
      "cell_type": "code",
      "source": [
        "from transformers import EsmTokenizer, EsmModel\n",
        "import torch\n",
        "\n",
        "pt_tokenizer = EsmTokenizer.from_pretrained(\"facebook/esm2_t6_8M_UR50D\")\n",
        "pt_model = EsmModel.from_pretrained(\"facebook/esm2_t6_8M_UR50D\")"
      ],
      "metadata": {
        "colab": {
          "base_uri": "https://localhost:8080/"
        },
        "id": "4hsX4D68Y9Jy",
        "outputId": "31b09a44-0afe-4395-9be2-feb6839ef012"
      },
      "execution_count": 27,
      "outputs": [
        {
          "output_type": "stream",
          "name": "stderr",
          "text": [
            "Some weights of EsmModel were not initialized from the model checkpoint at facebook/esm2_t6_8M_UR50D and are newly initialized: ['esm.pooler.dense.bias', 'esm.pooler.dense.weight']\n",
            "You should probably TRAIN this model on a down-stream task to be able to use it for predictions and inference.\n"
          ]
        }
      ]
    },
    {
      "cell_type": "code",
      "source": [
        "pt_training_allele_BERT_embeddings = get_BERT_embeddings(training_allele_pseudoseqs, pt_tokenizer, pt_model, \"pt\")\n",
        "pt_training_peptide_BERT_embeddings = get_BERT_embeddings(training_peptide_pseudoseqs, pt_tokenizer, pt_model, \"pt\")"
      ],
      "metadata": {
        "id": "Uj0kvYAaZFWj"
      },
      "execution_count": 28,
      "outputs": []
    },
    {
      "cell_type": "code",
      "source": [
        "pt_training_allele_BERT_embeddings"
      ],
      "metadata": {
        "id": "oBFXy0d_ZOta"
      },
      "execution_count": null,
      "outputs": []
    },
    {
      "cell_type": "markdown",
      "source": [
        "### Put BERT features through NN layer to bring down dimensionality of mhc and peptides to 20 (X1_train'', X1_es'', X2_train'', X2_es'')"
      ],
      "metadata": {
        "id": "x5-RZRNndlav"
      }
    },
    {
      "cell_type": "markdown",
      "source": [
        "#### REMOVE: Protoype of the dense layers\n",
        "#### Note: This code works without compiling and fitting the model because I merely want to forward propagate the inputs through the network. I just want to check the outputs/their dimensions."
      ],
      "metadata": {
        "id": "Goqx7FmYbVP5"
      }
    },
    {
      "cell_type": "code",
      "source": [
        "test_BERT_alleles = training_allele_BERT_embeddings[:3]\n",
        "test_BERT_peptides = training_peptide_BERT_embeddings[:3]"
      ],
      "metadata": {
        "id": "ltROHDdRj_Xz"
      },
      "execution_count": 57,
      "outputs": []
    },
    {
      "cell_type": "code",
      "source": [
        "test_BERT_alleles.shape, test_BERT_peptides.shape"
      ],
      "metadata": {
        "colab": {
          "base_uri": "https://localhost:8080/"
        },
        "id": "S7qSiHo647HY",
        "outputId": "ef11ed6e-7051-4189-a1df-a19d645d00c3"
      },
      "execution_count": 58,
      "outputs": [
        {
          "output_type": "execute_result",
          "data": {
            "text/plain": [
              "(TensorShape([3, 34, 320]), TensorShape([3, 15, 320]))"
            ]
          },
          "metadata": {},
          "execution_count": 58
        }
      ]
    },
    {
      "cell_type": "code",
      "source": [
        "from tensorflow.keras.layers import Input, Dense\n",
        "from tensorflow.keras.models import Model\n",
        "\n",
        "# Define input tensors (BERT)\n",
        "input_1 = Input(shape=(34, 320))\n",
        "input_2 = Input(shape=(15, 320))\n",
        "\n",
        "# Dimensionality reduction layers\n",
        "dense_1 = Dense(20, kernel_regularizer = tf.keras.regularizers.l1, activation='relu')(input_1)\n",
        "dense_2 = Dense(20, kernel_regularizer = tf.keras.regularizers.l1, activation='relu')(input_2)\n",
        "\n",
        "intermediate_model = tf.keras.Model(inputs=[input_1, input_2], outputs=[dense_1, dense_2])\n",
        "intermediate_model.summary()\n",
        "\n",
        "outputs = intermediate_model.predict([test_BERT_alleles, test_BERT_peptides])\n",
        "allele_output, peptide_output = outputs"
      ],
      "metadata": {
        "colab": {
          "base_uri": "https://localhost:8080/"
        },
        "id": "wLVDJbtHyWwX",
        "outputId": "aab42cac-029f-48e5-bfe5-0a9ef5b95d75"
      },
      "execution_count": 72,
      "outputs": [
        {
          "output_type": "stream",
          "name": "stdout",
          "text": [
            "Model: \"model_4\"\n",
            "__________________________________________________________________________________________________\n",
            " Layer (type)                Output Shape                 Param #   Connected to                  \n",
            "==================================================================================================\n",
            " input_13 (InputLayer)       [(None, 34, 320)]            0         []                            \n",
            "                                                                                                  \n",
            " input_14 (InputLayer)       [(None, 15, 320)]            0         []                            \n",
            "                                                                                                  \n",
            " dense_12 (Dense)            (None, 34, 20)               6420      ['input_13[0][0]']            \n",
            "                                                                                                  \n",
            " dense_13 (Dense)            (None, 15, 20)               6420      ['input_14[0][0]']            \n",
            "                                                                                                  \n",
            "==================================================================================================\n",
            "Total params: 12840 (50.16 KB)\n",
            "Trainable params: 12840 (50.16 KB)\n",
            "Non-trainable params: 0 (0.00 Byte)\n",
            "__________________________________________________________________________________________________\n",
            "1/1 [==============================] - 0s 82ms/step\n"
          ]
        }
      ]
    },
    {
      "cell_type": "code",
      "source": [
        "# outputs = list of len 2\n",
        "# nd.array\n",
        "type(outputs[0])\n",
        "# 3, 34, 20\n",
        "outputs[0].shape"
      ],
      "metadata": {
        "colab": {
          "base_uri": "https://localhost:8080/"
        },
        "id": "h-tgQj1W-R4G",
        "outputId": "8c53aba7-42d0-4d6a-a775-63a0d69dfde0"
      },
      "execution_count": 155,
      "outputs": [
        {
          "output_type": "execute_result",
          "data": {
            "text/plain": [
              "(3, 34, 20)"
            ]
          },
          "metadata": {},
          "execution_count": 155
        }
      ]
    },
    {
      "cell_type": "code",
      "source": [
        "outputs"
      ],
      "metadata": {
        "id": "1XWIKNM0Byum"
      },
      "execution_count": null,
      "outputs": []
    },
    {
      "cell_type": "markdown",
      "source": [
        "### REMOVE: Does outputs look like X_tr?\n",
        "Yes!"
      ],
      "metadata": {
        "id": "50_A2Z6t_R26"
      }
    },
    {
      "cell_type": "code",
      "source": [
        "# loads the init model\n",
        "ensemble = mhcglobe.ensemble(train_type=\"init\")\n",
        "# DOES depend on init/full!\n",
        "setup_data_training = ensemble.setup_data_training(pMHC_data_train)\n",
        "# Shape: (583650, 34, 20)\n",
        "X_tr, Y_tr, X_es, Y_es = setup_data_training"
      ],
      "metadata": {
        "id": "W1-dia6S_arz"
      },
      "execution_count": 38,
      "outputs": []
    },
    {
      "cell_type": "code",
      "source": [
        "X_tr"
      ],
      "metadata": {
        "id": "8uLo7FiW_qbM"
      },
      "execution_count": null,
      "outputs": []
    },
    {
      "cell_type": "markdown",
      "source": [
        "### Setup X_train to be [X1_train'', X2_train''] and X_es = [X1_es'', X2_es'']\n"
      ],
      "metadata": {
        "id": "ShBjxWUzd4Rd"
      }
    },
    {
      "cell_type": "markdown",
      "source": [
        "### Get Y from get_XY function"
      ],
      "metadata": {
        "id": "NAqTFTZmfYzi"
      }
    },
    {
      "cell_type": "code",
      "source": [
        "Y_tr = seqf.get_XY(train, encode_type='ONE_HOT', get_Y=True)[1]\n",
        "Y_es = seqf.get_XY(es, encode_type='ONE_HOT', get_Y=True)[1]"
      ],
      "metadata": {
        "id": "YzIyMcg8fP0s"
      },
      "execution_count": 70,
      "outputs": []
    },
    {
      "cell_type": "markdown",
      "source": [
        "### Train the Model"
      ],
      "metadata": {
        "id": "k6qTNZ4YfmGS"
      }
    },
    {
      "cell_type": "code",
      "source": [
        "# loads the init model\n",
        "model_dir = \"/content/mhcglobe/model/mhcglobe/init/\"\n",
        "model_1 = trainf.load_trained_mhcglobe_model(model_path=model_dir+\"model14_fold13_ONE_HOT_init/\")"
      ],
      "metadata": {
        "id": "DBAoWdUnfoCC"
      },
      "execution_count": 71,
      "outputs": []
    },
    {
      "cell_type": "markdown",
      "source": [
        "#### Make new model with dense layer"
      ],
      "metadata": {
        "id": "z18SFYszuGk1"
      }
    },
    {
      "cell_type": "code",
      "source": [
        "from tensorflow.keras.layers import Input, Dense\n",
        "from tensorflow.keras.models import Model\n",
        "import inequality_loss\n",
        "from tensorflow.keras import optimizers, losses\n",
        "\n",
        "# Define input tensors\n",
        "BERT_allele = Input(shape=(34, 320))\n",
        "peptide_allele = Input(shape=(15, 320))\n",
        "\n",
        "# Dimensionality reduction layers\n",
        "reduced_allele = Dense(20, kernel_regularizer = tf.keras.regularizers.l1(l=0.01), activation='relu')(BERT_allele)\n",
        "reduced_peptide = Dense(20, kernel_regularizer = tf.keras.regularizers.l1(l=0.01), activation='relu')(peptide_allele)\n",
        "\n",
        "# Assume model_1 takes two inputs: [reduced_input_1, reduced_input_2]\n",
        "# Adjusted to reshape if necessary and connect to model_1\n",
        "output_1 = model_1([reduced_allele, reduced_peptide])\n",
        "\n",
        "# Define the new comprehensive model\n",
        "new_model = Model(inputs=[BERT_allele, peptide_allele], outputs=output_1)"
      ],
      "metadata": {
        "id": "zv3OHdF_uSyv"
      },
      "execution_count": 72,
      "outputs": []
    },
    {
      "cell_type": "markdown",
      "source": [
        "### Compilation related"
      ],
      "metadata": {
        "id": "3RQHwX1NsU1_"
      }
    },
    {
      "cell_type": "code",
      "source": [
        "model_1_learning_rate = 0.0011339304\n",
        "model_1_momentum = 0.5\n",
        "model_1_epsilon = 6.848580326162904e-07\n",
        "model_1_centered = True\n",
        "\n",
        "# Compile and train new_model as usual\n",
        "optimizer = optimizers.RMSprop(\n",
        "        learning_rate=model_1_learning_rate,\n",
        "        momentum=model_1_momentum,\n",
        "        epsilon=model_1_epsilon,\n",
        "        centered=model_1_centered)\n",
        "\n",
        "new_model.compile(optimizer=optimizer, loss=inequality_loss.MSEWithInequalities().loss)"
      ],
      "metadata": {
        "id": "TPjiodnQsNW7"
      },
      "execution_count": 75,
      "outputs": []
    },
    {
      "cell_type": "markdown",
      "source": [
        "### Check what this `new_model` is like!\n"
      ],
      "metadata": {
        "id": "Dt92bp0oil_H"
      }
    },
    {
      "cell_type": "code",
      "source": [
        "from tensorflow.keras.utils import plot_model\n",
        "\n",
        "plot_model(new_model, to_file='model.png', show_shapes=True, show_layer_names=True)"
      ],
      "metadata": {
        "colab": {
          "base_uri": "https://localhost:8080/",
          "height": 312
        },
        "id": "PUn7cjuPip8V",
        "outputId": "93ec0997-df6b-4bc8-f69d-b4492e8b2924"
      },
      "execution_count": 76,
      "outputs": [
        {
          "output_type": "execute_result",
          "data": {
            "image/png": "[encoded data removed]",
            "text/plain": [
              "<IPython.core.display.Image object>"
            ]
          },
          "metadata": {},
          "execution_count": 76
        }
      ]
    },
    {
      "cell_type": "markdown",
      "source": [
        "### Train the model"
      ],
      "metadata": {
        "id": "Z306J6qCsaBd"
      }
    },
    {
      "cell_type": "code",
      "source": [
        "from tensorflow.keras.callbacks import EarlyStopping\n",
        "import tensorflow.keras.callbacks as Callbacks\n",
        "\n",
        "mhcglobe_callbacks = [Callbacks.EarlyStopping(\n",
        "                monitor='val_loss',\n",
        "                patience=20,\n",
        "                mode='min',\n",
        "                baseline=1,\n",
        "                min_delta=0.0001)]\n",
        "verbose = 0\n",
        "\n",
        "new_model.fit([training_allele_BERT_embeddings, training_peptide_BERT_embeddings], Y_tr,\n",
        "              batch_size= 1, #hparams['batch_size'], 300/10000\n",
        "              epochs=300,\n",
        "              validation_data=([es_allele_BERT_embeddings, es_peptide_BERT_embeddings], Y_es),\n",
        "              shuffle=True,\n",
        "              verbose=verbose,\n",
        "              callbacks=mhcglobe_callbacks)"
      ],
      "metadata": {
        "colab": {
          "base_uri": "https://localhost:8080/"
        },
        "id": "jDLe27x8ceBf",
        "outputId": "f8626fd1-7a3a-4c4d-ca93-c83854c8824b"
      },
      "execution_count": 77,
      "outputs": [
        {
          "output_type": "execute_result",
          "data": {
            "text/plain": [
              "<keras.src.callbacks.History at 0x7c7e5c474490>"
            ]
          },
          "metadata": {},
          "execution_count": 77
        }
      ]
    },
    {
      "cell_type": "markdown",
      "source": [
        "### Predict using this model!!!"
      ],
      "metadata": {
        "id": "crwDPycgtPGR"
      }
    },
    {
      "cell_type": "code",
      "source": [
        "test_allele_pseudoseqs = get_allele_pseudoseqs(human_pMHC_data_test, pMHC)\n",
        "test_peptide_pseudoseqs = get_peptide_pseudoseqs(human_pMHC_data_test)\n",
        "\n",
        "# for test: 5, 15, 320\n",
        "test_allele_BERT_embeddings = get_BERT_embeddings(test_allele_pseudoseqs, tokenizer, model, \"tf\")\n",
        "# for test: 5, 15, 320\n",
        "test_peptide_BERT_embeddings = get_BERT_embeddings(test_peptide_pseudoseqs, tokenizer, model, \"tf\")"
      ],
      "metadata": {
        "id": "vILzgXoEtNbn"
      },
      "execution_count": 84,
      "outputs": []
    },
    {
      "cell_type": "code",
      "source": [
        "test_predictions = new_model.predict([test_allele_BERT_embeddings, test_peptide_BERT_embeddings])"
      ],
      "metadata": {
        "colab": {
          "base_uri": "https://localhost:8080/"
        },
        "id": "K9gmOF2OvCuJ",
        "outputId": "a27f392b-5dde-47a2-8f2c-d0909fd62db6"
      },
      "execution_count": 85,
      "outputs": [
        {
          "output_type": "stream",
          "name": "stdout",
          "text": [
            "4/4 [==============================] - 0s 3ms/step\n"
          ]
        }
      ]
    },
    {
      "cell_type": "code",
      "source": [
        "test_predictions"
      ],
      "metadata": {
        "colab": {
          "base_uri": "https://localhost:8080/"
        },
        "id": "pP2ZdHhnveuE",
        "outputId": "491fb334-a05c-4198-d080-b49c1885b56d"
      },
      "execution_count": 86,
      "outputs": [
        {
          "output_type": "execute_result",
          "data": {
            "text/plain": [
              "array([[0.57225055],\n",
              "       [0.57225055],\n",
              "       [0.57225055],\n",
              "       [0.57225055],\n",
              "       [0.57225055],\n",
              "       [0.57225055],\n",
              "       [0.57225055],\n",
              "       [0.57225055],\n",
              "       [0.57225055],\n",
              "       [0.57225055],\n",
              "       [0.57225055],\n",
              "       [0.57225055],\n",
              "       [0.57225055],\n",
              "       [0.57225055],\n",
              "       [0.57225055],\n",
              "       [0.57225055],\n",
              "       [0.57225055],\n",
              "       [0.57225055],\n",
              "       [0.57225055],\n",
              "       [0.57225055],\n",
              "       [0.57225055],\n",
              "       [0.57225055],\n",
              "       [0.57225055],\n",
              "       [0.57225055],\n",
              "       [0.57225055],\n",
              "       [0.57225055],\n",
              "       [0.57225055],\n",
              "       [0.57225055],\n",
              "       [0.57225055],\n",
              "       [0.57225055],\n",
              "       [0.57225055],\n",
              "       [0.57225055],\n",
              "       [0.57225055],\n",
              "       [0.57225055],\n",
              "       [0.57225055],\n",
              "       [0.57225055],\n",
              "       [0.57225055],\n",
              "       [0.57225055],\n",
              "       [0.57225055],\n",
              "       [0.57225055],\n",
              "       [0.57225055],\n",
              "       [0.57225055],\n",
              "       [0.57225055],\n",
              "       [0.57225055],\n",
              "       [0.57225055],\n",
              "       [0.57225055],\n",
              "       [0.57225055],\n",
              "       [0.57225055],\n",
              "       [0.57225055],\n",
              "       [0.57225055],\n",
              "       [0.57225055],\n",
              "       [0.57225055],\n",
              "       [0.57225055],\n",
              "       [0.57225055],\n",
              "       [0.57225055],\n",
              "       [0.57225055],\n",
              "       [0.57225055],\n",
              "       [0.57225055],\n",
              "       [0.57225055],\n",
              "       [0.57225055],\n",
              "       [0.57225055],\n",
              "       [0.57225055],\n",
              "       [0.57225055],\n",
              "       [0.57225055],\n",
              "       [0.57225055],\n",
              "       [0.57225055],\n",
              "       [0.57225055],\n",
              "       [0.57225055],\n",
              "       [0.57225055],\n",
              "       [0.57225055],\n",
              "       [0.57225055],\n",
              "       [0.57225055],\n",
              "       [0.57225055],\n",
              "       [0.57225055],\n",
              "       [0.57225055],\n",
              "       [0.57225055],\n",
              "       [0.57225055],\n",
              "       [0.57225055],\n",
              "       [0.57225055],\n",
              "       [0.57225055],\n",
              "       [0.57225055],\n",
              "       [0.57225055],\n",
              "       [0.57225055],\n",
              "       [0.57225055],\n",
              "       [0.57225055],\n",
              "       [0.57225055],\n",
              "       [0.57225055],\n",
              "       [0.57225055],\n",
              "       [0.57225055],\n",
              "       [0.57225055],\n",
              "       [0.57225055],\n",
              "       [0.57225055],\n",
              "       [0.57225055],\n",
              "       [0.57225055],\n",
              "       [0.57225055],\n",
              "       [0.57225055],\n",
              "       [0.57225055],\n",
              "       [0.57225055],\n",
              "       [0.57225055],\n",
              "       [0.57225055]], dtype=float32)"
            ]
          },
          "metadata": {},
          "execution_count": 86
        }
      ]
    },
    {
      "cell_type": "code",
      "source": [],
      "metadata": {
        "id": "INIT9v7fvpZt"
      },
      "execution_count": null,
      "outputs": []
    }
  ]
}